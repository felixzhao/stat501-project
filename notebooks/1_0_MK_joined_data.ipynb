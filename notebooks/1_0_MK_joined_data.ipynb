{
  "nbformat": 4,
  "nbformat_minor": 0,
  "metadata": {
    "colab": {
      "provenance": [],
      "authorship_tag": "ABX9TyPRy9MW6evge6rVGsYwa2ZZ",
      "include_colab_link": true
    },
    "kernelspec": {
      "name": "python3",
      "display_name": "Python 3"
    },
    "language_info": {
      "name": "python"
    }
  },
  "cells": [
    {
      "cell_type": "markdown",
      "metadata": {
        "id": "view-in-github",
        "colab_type": "text"
      },
      "source": [
        "<a href=\"https://colab.research.google.com/github/felixzhao/stat501-project/blob/main/notebooks/1_0_MK_joined_data.ipynb\" target=\"_parent\"><img src=\"https://colab.research.google.com/assets/colab-badge.svg\" alt=\"Open In Colab\"/></a>"
      ]
    },
    {
      "cell_type": "code",
      "execution_count": 1,
      "metadata": {
        "id": "8fr4ItYqPzjO"
      },
      "outputs": [],
      "source": [
        "%load_ext rpy2.ipython"
      ]
    },
    {
      "cell_type": "code",
      "source": [
        "import os"
      ],
      "metadata": {
        "id": "Jvg7yEPQP3Q6"
      },
      "execution_count": 2,
      "outputs": []
    },
    {
      "cell_type": "code",
      "source": [
        "from google.colab import drive\n",
        "drive.mount('/content/drive')"
      ],
      "metadata": {
        "colab": {
          "base_uri": "https://localhost:8080/"
        },
        "id": "bRK68ItbP9Vf",
        "outputId": "73100b40-5a70-48ba-e8bf-8a6595fd23ef"
      },
      "execution_count": 3,
      "outputs": [
        {
          "output_type": "stream",
          "name": "stdout",
          "text": [
            "Mounted at /content/drive\n"
          ]
        }
      ]
    },
    {
      "cell_type": "code",
      "source": [
        "%%R\n",
        "library(readxl)\n",
        "user_data <- read_excel(\"/content/drive/MyDrive/csv/Stats Consulting Data.xlsx\", sheet=\"user_data\")\n",
        "start_end_registrations <- read_excel(\"/content/drive/MyDrive/csv/Stats Consulting Data.xlsx\", sheet=\"start_end_registrations\")\n",
        "intervention_history <- read_excel(\"/content/drive/MyDrive/csv/Stats Consulting Data.xlsx\", sheet=\"intervention_history\")\n",
        "onboarding_medical_data <- read_excel(\"/content/drive/MyDrive/csv/Stats Consulting Data.xlsx\", sheet=\"onboarding_medical_data\")\n",
        "weight_milestones <- read_excel(\"/content/drive/MyDrive/csv/Stats Consulting Data.xlsx\", sheet=\"weight_milestones\")\n",
        "onboarding_status <- read_excel(\"/content/drive/MyDrive/csv/Stats Consulting Data.xlsx\", sheet=\"onboarding_status\")\n",
        "citizen_advisor_view <- read_excel(\"/content/drive/MyDrive/csv/Stats Consulting Data.xlsx\", sheet=\"citizen_advisor_view\")"
      ],
      "metadata": {
        "id": "J8tSP9I9QHVG"
      },
      "execution_count": 6,
      "outputs": []
    },
    {
      "cell_type": "markdown",
      "source": [
        "This chunk of code converts the data to wide format and calculates the number of goals set for each individual."
      ],
      "metadata": {
        "id": "SI188qZZRgHz"
      }
    },
    {
      "cell_type": "code",
      "source": [
        "%%R\n",
        "library(tidyr)\n",
        "library(tidyverse)\n",
        "\n",
        "wide_SER <- pivot_wider(start_end_registrations,\n",
        "            id_cols=\"citizenId\",\n",
        "            names_from=\"type\",\n",
        "            values_from = \"valueCount\")\n",
        "\n",
        "wide_SER$goalsSet <- rowSums(!is.na(wide_SER))"
      ],
      "metadata": {
        "id": "e-iWTbUYQ_Xh"
      },
      "execution_count": 9,
      "outputs": []
    },
    {
      "cell_type": "markdown",
      "source": [
        "# intervention_history\n",
        "\n",
        "This chunk of code is to just get an idea of the response rates. I made a histogram of all the responses."
      ],
      "metadata": {
        "id": "BbfTszlpRYn1"
      }
    },
    {
      "cell_type": "code",
      "source": [
        "%%R\n",
        "library(lubridate)\n",
        "\n",
        "# Make data into wide format and remove the Id column\n",
        "wide_IH <- pivot_wider(intervention_history,\n",
        "            id_cols=\"citizenId\",\n",
        "            names_from=\"interventionNumber\",\n",
        "            values_from = \"interventionDate\")\n",
        "wide_IH <- wide_IH %>% remove_rownames %>% column_to_rownames(var=\"citizenId\")\n",
        "\n",
        "# Convert each column to numeric (system seconds)\n",
        "for(column in 1:ncol(wide_IH)) {\n",
        "  wide_IH[,column] <- as.numeric(wide_IH[,column])\n",
        "}\n",
        "\n",
        "# Calculate the time since the initial response then set initial response to 0\n",
        "wide_IH[,2:ncol(wide_IH)] <- (wide_IH[,2:ncol(wide_IH)] - wide_IH[,1])\n",
        "wide_IH[,1] <- 0\n",
        "\n",
        "# Make a histogram of the responses since their inital response (without including the very first one)\n",
        "hist(as.numeric(as.matrix(wide_IH[,-1])), breaks=30, xlab=\"Time in days for each response\")"
      ],
      "metadata": {
        "colab": {
          "base_uri": "https://localhost:8080/",
          "height": 497
        },
        "id": "K4DOwCLxQfXO",
        "outputId": "dae1f101-3e66-4487-8f78-b5e85e5deb3a"
      },
      "execution_count": 11,
      "outputs": [
        {
          "output_type": "display_data",
          "data": {
            "image/png": "[encoded data removed]"
          },
          "metadata": {}
        }
      ]
    },
    {
      "cell_type": "markdown",
      "source": [
        "# onboarding_medical_data"
      ],
      "metadata": {
        "id": "g79ff5IzRV3C"
      }
    },
    {
      "cell_type": "code",
      "source": [
        "%%R\n",
        "# Include citizenId's with none-zeroes and only include ONBOARDED\n",
        "known_OMD <- onboarding_medical_data[onboarding_medical_data$citizenId != 0,]\n",
        "known_OMD <- known_OMD[known_OMD$status == \"ONBOARDED\",]\n",
        "\n",
        "# Convert to wide format. Only including the steps and their corresponding value.\n",
        "wide_OMD <- pivot_wider(known_OMD,\n",
        "            id_cols=\"citizenId\",\n",
        "            names_from=c(\"stepName\", \"stepGroupName\"),\n",
        "            values_from = \"measureValue\")"
      ],
      "metadata": {
        "id": "UoljQsJfRIoA"
      },
      "execution_count": 13,
      "outputs": []
    },
    {
      "cell_type": "markdown",
      "source": [
        "# weight_milestones\n",
        "\n",
        "Here, we calculate the citizen's BMI and then classify them based on the WHO's BMI table. It is calculated as:\n",
        "\n",
        "$$\n",
        "\\text{BMI} = \\frac{\\text{weight (kg)}}{\\left(\\text{height (m)}\\right)^2}\n",
        "$$\n",
        "\n",
        "where it is classified as:\n",
        "\n",
        "+ $\\text{Below } 18.5$: Under\n",
        "+ $18.5-24.9$: Normal\n",
        "+ $25.0-29.9$: Pre-obese\n",
        "+ $30.0-34.9$: Obesity 1\n",
        "+ $35.0-39.9$: Obesity 2\n",
        "+ $40+$: Obesity 3"
      ],
      "metadata": {
        "id": "Cb1VMHleROb9"
      }
    },
    {
      "cell_type": "code",
      "source": [
        "%%R\n",
        "\n",
        "# BMI = weight/(height)^2\n",
        "weight_milestones$BMI <- weight_milestones$startWeight/(weight_milestones$citizenHeight/100)^2\n",
        "\n",
        "classify_BMI <- function(x) {\n",
        "  if(x < 18.5){return(\"Underweight\")}\n",
        "  if(x < 25){return(\"Normal\")}\n",
        "  if(x < 30){return(\"Pre-obese\")}\n",
        "  if(x < 35){return(\"Obesity 1\")}\n",
        "  if(x < 40){return(\"Obesity 2\")}\n",
        "  if(40 < x){return(\"Obesity 3\")}\n",
        "}\n",
        "\n",
        "weight_milestones$BMIClass <- as.factor(unlist(lapply(weight_milestones$BMI, classify_BMI)))"
      ],
      "metadata": {
        "id": "5ezZnSKeRnN8"
      },
      "execution_count": 15,
      "outputs": []
    },
    {
      "cell_type": "markdown",
      "source": [
        "# Combining onboarding_medical_data, user_data and citizen_advisor_view"
      ],
      "metadata": {
        "id": "MNEypkEERsHm"
      }
    },
    {
      "cell_type": "markdown",
      "source": [
        "I have joined user_data, citizen_advisor_view, WIDE onboarding_medical_data,\n",
        "WIDE start_end_registrations (but only goalsSet) and weight_milestones (where I have only included the\n",
        "BMI class which I have calculated)."
      ],
      "metadata": {
        "id": "hReOUpsYRwbt"
      }
    },
    {
      "cell_type": "code",
      "source": [
        "%%R\n",
        "\n",
        "library(dplyr)\n",
        "joined_data <- user_data %>% full_join(citizen_advisor_view, by=\"citizenId\") %>%\n",
        "  full_join(wide_OMD, by=\"citizenId\") %>% full_join(wide_SER[,c(\"citizenId\", \"goalsSet\")], by=\"citizenId\")\n",
        "\n",
        "# Exclude features that include text or have little to no data.\n",
        "features_to_remove <- c(\"isRejected\", \"gender\", \"citizenIllnessesText\",\n",
        "                        \"educationalLevel\", \"citizenCigarettes\", \"hasActiveAgreement\",\n",
        "                        \"closeDescription\", \"extractDate\", \"createdDate\", \"startDate\",\n",
        "                        \"lastActivity.x\", \"firstAdviceTime\", \"lastAdviceTime\",\n",
        "                        \"firstReceivedMessageTime\", \"lastReceivedMessageTime\",\n",
        "                        \"firstMessageTime\", \"lastMessageTime\")\n",
        "\n",
        "# Convert strings to factors\n",
        "joined_data %>% select(-features_to_remove) %>% mutate_if(is.character, as.factor) -> joined_data\n",
        "\n",
        "# Convert date columns to date types\n",
        "joined_data$`Birth due date_Onboarding` <- as.Date(joined_data$`Birth due date_Onboarding`, format=\"%Y-%m-%d\")\n",
        "joined_data$`Birth date_After Birth` <- as.Date(joined_data$`Birth date_After Birth`, format=\"%Y-%m-%d\")\n",
        "\n",
        "# Join BMI_class variable from weight_milestones\n",
        "weight_milestones %>% distinct(citizenId, .keep_all = T) %>%\n",
        "  select(citizenId, BMIClass) %>% full_join(joined_data, by=\"citizenId\") -> joined_data"
      ],
      "metadata": {
        "id": "yLU1AYu5RzAR"
      },
      "execution_count": 17,
      "outputs": []
    }
  ]
}