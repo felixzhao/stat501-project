{
  "nbformat": 4,
  "nbformat_minor": 0,
  "metadata": {
    "colab": {
      "provenance": [],
      "authorship_tag": "ABX9TyNdWy4h+IAbSYIXFQuL3V3N",
      "include_colab_link": true
    },
    "kernelspec": {
      "name": "python3",
      "display_name": "Python 3"
    },
    "language_info": {
      "name": "python"
    }
  },
  "cells": [
    {
      "cell_type": "markdown",
      "metadata": {
        "id": "view-in-github",
        "colab_type": "text"
      },
      "source": [
        "<a href=\"https://colab.research.google.com/github/felixzhao/stat501-project/blob/main/notebooks/2_0_FZ_start_end_registrations.ipynb\" target=\"_parent\"><img src=\"https://colab.research.google.com/assets/colab-badge.svg\" alt=\"Open In Colab\"/></a>"
      ]
    },
    {
      "cell_type": "code",
      "source": [
        "import os\n",
        "import pandas as pd\n",
        "import matplotlib.pyplot as plt\n",
        "import seaborn as sns"
      ],
      "metadata": {
        "id": "a8ixm0cJNz56"
      },
      "execution_count": 57,
      "outputs": []
    },
    {
      "cell_type": "code",
      "execution_count": 43,
      "metadata": {
        "colab": {
          "base_uri": "https://localhost:8080/"
        },
        "id": "QyzmXSJ_NHRM",
        "outputId": "b4b98d3a-3e1e-44dd-b0a4-675f3c407b42"
      },
      "outputs": [
        {
          "output_type": "stream",
          "name": "stdout",
          "text": [
            "Drive already mounted at /content/drive; to attempt to forcibly remount, call drive.mount(\"/content/drive\", force_remount=True).\n",
            " CoachHandbook.docx\t'Data Dictionary.gdoc'\t\t   Texts.csv\n",
            " csv\t\t\t pre_process_round_1\n",
            "'Data Dictionary.docx'\t'Stats Consulting Data (1).xlsx'\n"
          ]
        }
      ],
      "source": [
        "from google.colab import drive\n",
        "drive.mount('/content/drive')\n",
        "!ls \"/content/drive/My Drive/Study@NZ/VUW@NZ/STATS 501/Project\""
      ]
    },
    {
      "cell_type": "code",
      "source": [
        "root = \"/content/drive/My Drive/Study@NZ/VUW@NZ/STATS 501/Project/csv\"\n",
        "\n",
        "output_dir = \"/content/drive/My Drive/Study@NZ/VUW@NZ/STATS 501/Project/pre_process_round_1\""
      ],
      "metadata": {
        "id": "68Hh5GToNTIq"
      },
      "execution_count": 44,
      "outputs": []
    },
    {
      "cell_type": "code",
      "source": [
        "csv_files = []\n",
        "# List all files under the directory\n",
        "for root, dirs, files in os.walk(root):\n",
        "    for file in files:\n",
        "        csv_files.append(os.path.join(root, file))\n",
        "csv_files"
      ],
      "metadata": {
        "colab": {
          "base_uri": "https://localhost:8080/"
        },
        "id": "zlxQFE09NipB",
        "outputId": "2dc14902-9745-4550-af62-7cbe638c8cca"
      },
      "execution_count": 23,
      "outputs": [
        {
          "output_type": "execute_result",
          "data": {
            "text/plain": [
              "['/content/drive/My Drive/Study@NZ/VUW@NZ/STATS 501/Project/csv/retention_milestone.csv',\n",
              " '/content/drive/My Drive/Study@NZ/VUW@NZ/STATS 501/Project/csv/onboarding_status.csv',\n",
              " '/content/drive/My Drive/Study@NZ/VUW@NZ/STATS 501/Project/csv/onboarding_medical_data.csv',\n",
              " '/content/drive/My Drive/Study@NZ/VUW@NZ/STATS 501/Project/csv/user_data.csv',\n",
              " '/content/drive/My Drive/Study@NZ/VUW@NZ/STATS 501/Project/csv/citizen_advisor_view.csv',\n",
              " '/content/drive/My Drive/Study@NZ/VUW@NZ/STATS 501/Project/csv/start_end_registrations.csv',\n",
              " '/content/drive/My Drive/Study@NZ/VUW@NZ/STATS 501/Project/csv/registrations_per_goal.csv',\n",
              " '/content/drive/My Drive/Study@NZ/VUW@NZ/STATS 501/Project/csv/daily_chat_activity.csv',\n",
              " '/content/drive/My Drive/Study@NZ/VUW@NZ/STATS 501/Project/csv/weight_milestones.csv',\n",
              " '/content/drive/My Drive/Study@NZ/VUW@NZ/STATS 501/Project/csv/intervention_history.csv',\n",
              " '/content/drive/My Drive/Study@NZ/VUW@NZ/STATS 501/Project/csv/goals_and_registrations.csv',\n",
              " '/content/drive/My Drive/Study@NZ/VUW@NZ/STATS 501/Project/csv/Sheet1.csv']"
            ]
          },
          "metadata": {},
          "execution_count": 23
        }
      ]
    },
    {
      "cell_type": "code",
      "source": [
        "def csv_summary(df):\n",
        "    print(\"Columns:\")\n",
        "    print(df.columns)\n",
        "\n",
        "    # Display summary information\n",
        "    print(\"Info:\")\n",
        "    print(df.info())\n",
        "\n",
        "    # Display summary statistics\n",
        "    print(\"Summary Statistics:\")\n",
        "    print(df.describe())"
      ],
      "metadata": {
        "id": "6NGbeaKfNxO6"
      },
      "execution_count": 24,
      "outputs": []
    },
    {
      "cell_type": "markdown",
      "source": [
        "# start_end_registrations"
      ],
      "metadata": {
        "id": "GvOhv9aUR9k6"
      }
    },
    {
      "cell_type": "code",
      "source": [
        "se_reg_path = csv_files[5]\n",
        "print(se_reg_path)\n",
        "se_reg_df = pd.read_csv(se_reg_path)\n",
        "\n",
        "# format cols\n",
        "se_reg_df['startDate'] = pd.to_datetime(se_reg_df['startDate'], errors='coerce')\n",
        "se_reg_df['endDate'] = pd.to_datetime(se_reg_df['endDate'], errors='coerce')\n",
        "\n",
        "se_reg_df['type'] = se_reg_df['type'].astype(str)\n",
        "\n",
        "csv_summary(se_reg_df)"
      ],
      "metadata": {
        "colab": {
          "base_uri": "https://localhost:8080/"
        },
        "id": "RqtR9cHtRBn6",
        "outputId": "5f16587a-aec4-4484-e896-95e1ab1f7cc0"
      },
      "execution_count": 29,
      "outputs": [
        {
          "output_type": "stream",
          "name": "stdout",
          "text": [
            "/content/drive/My Drive/Study@NZ/VUW@NZ/STATS 501/Project/csv/start_end_registrations.csv\n"
          ]
        },
        {
          "output_type": "stream",
          "name": "stderr",
          "text": [
            "<ipython-input-29-afc90e6787c5>:3: DtypeWarning: Columns (1,4,6) have mixed types. Specify dtype option on import or set low_memory=False.\n",
            "  se_reg_df = pd.read_csv(se_reg_path)\n"
          ]
        },
        {
          "output_type": "stream",
          "name": "stdout",
          "text": [
            "Columns:\n",
            "Index(['citizenId', 'type', 'valueCount', 'startValue', 'startDate',\n",
            "       'endValue', 'endDate'],\n",
            "      dtype='object')\n",
            "Info:\n",
            "<class 'pandas.core.frame.DataFrame'>\n",
            "RangeIndex: 1048575 entries, 0 to 1048574\n",
            "Data columns (total 7 columns):\n",
            " #   Column      Non-Null Count    Dtype         \n",
            "---  ------      --------------    -----         \n",
            " 0   citizenId   1048575 non-null  int64         \n",
            " 1   type        1048575 non-null  object        \n",
            " 2   valueCount  1303 non-null     float64       \n",
            " 3   startValue  1303 non-null     float64       \n",
            " 4   startDate   1303 non-null     datetime64[ns]\n",
            " 5   endValue    1303 non-null     float64       \n",
            " 6   endDate     1303 non-null     datetime64[ns]\n",
            "dtypes: datetime64[ns](2), float64(3), int64(1), object(1)\n",
            "memory usage: 56.0+ MB\n",
            "None\n",
            "Summary Statistics:\n",
            "          citizenId   valueCount    startValue      endValue\n",
            "count  1.048575e+06  1303.000000  1.303000e+03  1.303000e+03\n",
            "mean   1.221538e+03    83.620875  8.191507e+03  8.119613e+03\n",
            "std    3.458178e+04   143.590642  2.246437e+05  2.246801e+05\n",
            "min    0.000000e+00     1.000000  0.000000e+00  0.000000e+00\n",
            "25%    0.000000e+00     3.000000  1.000000e+00  1.000000e+00\n",
            "50%    0.000000e+00    18.000000  5.910000e+01  6.000000e+01\n",
            "75%    0.000000e+00    90.000000  1.041500e+02  1.010000e+02\n",
            "max    1.192205e+06  1104.000000  8.100118e+06  8.100118e+06\n"
          ]
        }
      ]
    },
    {
      "cell_type": "code",
      "source": [
        "se_reg_df.head()"
      ],
      "metadata": {
        "id": "4rzRZnv9SA1P"
      },
      "execution_count": null,
      "outputs": []
    },
    {
      "cell_type": "markdown",
      "source": [
        "# A large number of users do not set a goal type\n",
        "\n",
        "When type is nan, the data is meaningless"
      ],
      "metadata": {
        "id": "UKR0BGD0VwAG"
      }
    },
    {
      "cell_type": "code",
      "source": [
        "# Assuming df is your DataFrame\n",
        "unique_types = se_reg_df['type'].unique()\n",
        "print(\"Unique Types:\")\n",
        "print(unique_types)\n",
        "print(len(unique_types))\n",
        "\n",
        "type_counts = se_reg_df['type'].value_counts()\n",
        "print(\"Count of Each Unique Type:\")\n",
        "print(type_counts)\n"
      ],
      "metadata": {
        "colab": {
          "base_uri": "https://localhost:8080/"
        },
        "id": "BReFItKbR8yK",
        "outputId": "54f056cf-7a05-4fc1-f8eb-b3bd4dcef89f"
      },
      "execution_count": 33,
      "outputs": [
        {
          "output_type": "stream",
          "name": "stdout",
          "text": [
            "Unique Types:\n",
            "['WEIGHT' 'DIET_RULES' 'EXERCISE' 'MEDICINE' 'STEPS' 'LIFE_RULES' 'SLEEP'\n",
            " 'nan' 'PAIN' 'MOOD' 'BLOOD_PRESSURE' 'WAIST_HIP' 'FASTING_BLOOD_SUGAR'\n",
            " 'BLOOD_SUGAR' 'ALCOHOL' 'CIGARETTES']\n",
            "16\n",
            "Count of Each Unique Type:\n",
            "nan                    1047272\n",
            "WEIGHT                     357\n",
            "EXERCISE                   232\n",
            "STEPS                      205\n",
            "DIET_RULES                 203\n",
            "LIFE_RULES                 105\n",
            "SLEEP                       66\n",
            "MOOD                        59\n",
            "PAIN                        26\n",
            "MEDICINE                    23\n",
            "BLOOD_PRESSURE              12\n",
            "FASTING_BLOOD_SUGAR          9\n",
            "ALCOHOL                      2\n",
            "CIGARETTES                   2\n",
            "WAIST_HIP                    1\n",
            "BLOOD_SUGAR                  1\n",
            "Name: type, dtype: int64\n"
          ]
        }
      ]
    },
    {
      "cell_type": "code",
      "source": [
        "nan_type_df = se_reg_df[se_reg_df['type'] == 'nan']\n",
        "nan_type_df.head()"
      ],
      "metadata": {
        "colab": {
          "base_uri": "https://localhost:8080/",
          "height": 206
        },
        "id": "EY8_bLaqUUIr",
        "outputId": "dba54e8d-079e-405d-f676-288aba2b87c6"
      },
      "execution_count": 45,
      "outputs": [
        {
          "output_type": "execute_result",
          "data": {
            "text/plain": [
              "     citizenId type  valueCount  startValue startDate  endValue endDate\n",
              "40      831841  nan         NaN         NaN       NaT       NaN     NaT\n",
              "230     909811  nan         NaN         NaN       NaT       NaN     NaT\n",
              "426     955098  nan         NaN         NaN       NaT       NaN     NaT\n",
              "427     955121  nan         NaN         NaN       NaT       NaN     NaT\n",
              "487     964827  nan         NaN         NaN       NaT       NaN     NaT"
            ],
            "text/html": [
              "\n",
              "  <div id=\"df-2b6e88e6-f6c3-46b7-83f4-cdeca787ed60\" class=\"colab-df-container\">\n",
              "    <div>\n",
              "<style scoped>\n",
              "    .dataframe tbody tr th:only-of-type {\n",
              "        vertical-align: middle;\n",
              "    }\n",
              "\n",
              "    .dataframe tbody tr th {\n",
              "        vertical-align: top;\n",
              "    }\n",
              "\n",
              "    .dataframe thead th {\n",
              "        text-align: right;\n",
              "    }\n",
              "</style>\n",
              "<table border=\"1\" class=\"dataframe\">\n",
              "  <thead>\n",
              "    <tr style=\"text-align: right;\">\n",
              "      <th></th>\n",
              "      <th>citizenId</th>\n",
              "      <th>type</th>\n",
              "      <th>valueCount</th>\n",
              "      <th>startValue</th>\n",
              "      <th>startDate</th>\n",
              "      <th>endValue</th>\n",
              "      <th>endDate</th>\n",
              "    </tr>\n",
              "  </thead>\n",
              "  <tbody>\n",
              "    <tr>\n",
              "      <th>40</th>\n",
              "      <td>831841</td>\n",
              "      <td>nan</td>\n",
              "      <td>NaN</td>\n",
              "      <td>NaN</td>\n",
              "      <td>NaT</td>\n",
              "      <td>NaN</td>\n",
              "      <td>NaT</td>\n",
              "    </tr>\n",
              "    <tr>\n",
              "      <th>230</th>\n",
              "      <td>909811</td>\n",
              "      <td>nan</td>\n",
              "      <td>NaN</td>\n",
              "      <td>NaN</td>\n",
              "      <td>NaT</td>\n",
              "      <td>NaN</td>\n",
              "      <td>NaT</td>\n",
              "    </tr>\n",
              "    <tr>\n",
              "      <th>426</th>\n",
              "      <td>955098</td>\n",
              "      <td>nan</td>\n",
              "      <td>NaN</td>\n",
              "      <td>NaN</td>\n",
              "      <td>NaT</td>\n",
              "      <td>NaN</td>\n",
              "      <td>NaT</td>\n",
              "    </tr>\n",
              "    <tr>\n",
              "      <th>427</th>\n",
              "      <td>955121</td>\n",
              "      <td>nan</td>\n",
              "      <td>NaN</td>\n",
              "      <td>NaN</td>\n",
              "      <td>NaT</td>\n",
              "      <td>NaN</td>\n",
              "      <td>NaT</td>\n",
              "    </tr>\n",
              "    <tr>\n",
              "      <th>487</th>\n",
              "      <td>964827</td>\n",
              "      <td>nan</td>\n",
              "      <td>NaN</td>\n",
              "      <td>NaN</td>\n",
              "      <td>NaT</td>\n",
              "      <td>NaN</td>\n",
              "      <td>NaT</td>\n",
              "    </tr>\n",
              "  </tbody>\n",
              "</table>\n",
              "</div>\n",
              "    <div class=\"colab-df-buttons\">\n",
              "\n",
              "  <div class=\"colab-df-container\">\n",
              "    <button class=\"colab-df-convert\" onclick=\"convertToInteractive('df-2b6e88e6-f6c3-46b7-83f4-cdeca787ed60')\"\n",
              "            title=\"Convert this dataframe to an interactive table.\"\n",
              "            style=\"display:none;\">\n",
              "\n",
              "  <svg xmlns=\"http://www.w3.org/2000/svg\" height=\"24px\" viewBox=\"0 -960 960 960\">\n",
              "    <path d=\"M120-120v-720h720v720H120Zm60-500h600v-160H180v160Zm220 220h160v-160H400v160Zm0 220h160v-160H400v160ZM180-400h160v-160H180v160Zm440 0h160v-160H620v160ZM180-180h160v-160H180v160Zm440 0h160v-160H620v160Z\"/>\n",
              "  </svg>\n",
              "    </button>\n",
              "\n",
              "  <style>\n",
              "    .colab-df-container {\n",
              "      display:flex;\n",
              "      gap: 12px;\n",
              "    }\n",
              "\n",
              "    .colab-df-convert {\n",
              "      background-color: #E8F0FE;\n",
              "      border: none;\n",
              "      border-radius: 50%;\n",
              "      cursor: pointer;\n",
              "      display: none;\n",
              "      fill: #1967D2;\n",
              "      height: 32px;\n",
              "      padding: 0 0 0 0;\n",
              "      width: 32px;\n",
              "    }\n",
              "\n",
              "    .colab-df-convert:hover {\n",
              "      background-color: #E2EBFA;\n",
              "      box-shadow: 0px 1px 2px rgba(60, 64, 67, 0.3), 0px 1px 3px 1px rgba(60, 64, 67, 0.15);\n",
              "      fill: #174EA6;\n",
              "    }\n",
              "\n",
              "    .colab-df-buttons div {\n",
              "      margin-bottom: 4px;\n",
              "    }\n",
              "\n",
              "    [theme=dark] .colab-df-convert {\n",
              "      background-color: #3B4455;\n",
              "      fill: #D2E3FC;\n",
              "    }\n",
              "\n",
              "    [theme=dark] .colab-df-convert:hover {\n",
              "      background-color: #434B5C;\n",
              "      box-shadow: 0px 1px 3px 1px rgba(0, 0, 0, 0.15);\n",
              "      filter: drop-shadow(0px 1px 2px rgba(0, 0, 0, 0.3));\n",
              "      fill: #FFFFFF;\n",
              "    }\n",
              "  </style>\n",
              "\n",
              "    <script>\n",
              "      const buttonEl =\n",
              "        document.querySelector('#df-2b6e88e6-f6c3-46b7-83f4-cdeca787ed60 button.colab-df-convert');\n",
              "      buttonEl.style.display =\n",
              "        google.colab.kernel.accessAllowed ? 'block' : 'none';\n",
              "\n",
              "      async function convertToInteractive(key) {\n",
              "        const element = document.querySelector('#df-2b6e88e6-f6c3-46b7-83f4-cdeca787ed60');\n",
              "        const dataTable =\n",
              "          await google.colab.kernel.invokeFunction('convertToInteractive',\n",
              "                                                    [key], {});\n",
              "        if (!dataTable) return;\n",
              "\n",
              "        const docLinkHtml = 'Like what you see? Visit the ' +\n",
              "          '<a target=\"_blank\" href=https://colab.research.google.com/notebooks/data_table.ipynb>data table notebook</a>'\n",
              "          + ' to learn more about interactive tables.';\n",
              "        element.innerHTML = '';\n",
              "        dataTable['output_type'] = 'display_data';\n",
              "        await google.colab.output.renderOutput(dataTable, element);\n",
              "        const docLink = document.createElement('div');\n",
              "        docLink.innerHTML = docLinkHtml;\n",
              "        element.appendChild(docLink);\n",
              "      }\n",
              "    </script>\n",
              "  </div>\n",
              "\n",
              "\n",
              "<div id=\"df-7511162e-88e9-4802-909c-a4d3422b05ee\">\n",
              "  <button class=\"colab-df-quickchart\" onclick=\"quickchart('df-7511162e-88e9-4802-909c-a4d3422b05ee')\"\n",
              "            title=\"Suggest charts.\"\n",
              "            style=\"display:none;\">\n",
              "\n",
              "<svg xmlns=\"http://www.w3.org/2000/svg\" height=\"24px\"viewBox=\"0 0 24 24\"\n",
              "     width=\"24px\">\n",
              "    <g>\n",
              "        <path d=\"M19 3H5c-1.1 0-2 .9-2 2v14c0 1.1.9 2 2 2h14c1.1 0 2-.9 2-2V5c0-1.1-.9-2-2-2zM9 17H7v-7h2v7zm4 0h-2V7h2v10zm4 0h-2v-4h2v4z\"/>\n",
              "    </g>\n",
              "</svg>\n",
              "  </button>\n",
              "\n",
              "<style>\n",
              "  .colab-df-quickchart {\n",
              "    background-color: #E8F0FE;\n",
              "    border: none;\n",
              "    border-radius: 50%;\n",
              "    cursor: pointer;\n",
              "    display: none;\n",
              "    fill: #1967D2;\n",
              "    height: 32px;\n",
              "    padding: 0 0 0 0;\n",
              "    width: 32px;\n",
              "  }\n",
              "\n",
              "  .colab-df-quickchart:hover {\n",
              "    background-color: #E2EBFA;\n",
              "    box-shadow: 0px 1px 2px rgba(60, 64, 67, 0.3), 0px 1px 3px 1px rgba(60, 64, 67, 0.15);\n",
              "    fill: #174EA6;\n",
              "  }\n",
              "\n",
              "  [theme=dark] .colab-df-quickchart {\n",
              "    background-color: #3B4455;\n",
              "    fill: #D2E3FC;\n",
              "  }\n",
              "\n",
              "  [theme=dark] .colab-df-quickchart:hover {\n",
              "    background-color: #434B5C;\n",
              "    box-shadow: 0px 1px 3px 1px rgba(0, 0, 0, 0.15);\n",
              "    filter: drop-shadow(0px 1px 2px rgba(0, 0, 0, 0.3));\n",
              "    fill: #FFFFFF;\n",
              "  }\n",
              "</style>\n",
              "\n",
              "  <script>\n",
              "    async function quickchart(key) {\n",
              "      const charts = await google.colab.kernel.invokeFunction(\n",
              "          'suggestCharts', [key], {});\n",
              "    }\n",
              "    (() => {\n",
              "      let quickchartButtonEl =\n",
              "        document.querySelector('#df-7511162e-88e9-4802-909c-a4d3422b05ee button');\n",
              "      quickchartButtonEl.style.display =\n",
              "        google.colab.kernel.accessAllowed ? 'block' : 'none';\n",
              "    })();\n",
              "  </script>\n",
              "</div>\n",
              "    </div>\n",
              "  </div>\n"
            ]
          },
          "metadata": {},
          "execution_count": 45
        }
      ]
    },
    {
      "cell_type": "code",
      "source": [
        "csv_summary(nan_type_df)\n",
        "print(len(nan_type_df))"
      ],
      "metadata": {
        "colab": {
          "base_uri": "https://localhost:8080/"
        },
        "id": "G5_9q00wUaEd",
        "outputId": "0096b13c-b54e-4353-9fba-1eeff0e4f294"
      },
      "execution_count": 47,
      "outputs": [
        {
          "output_type": "stream",
          "name": "stdout",
          "text": [
            "Columns:\n",
            "Index(['citizenId', 'type', 'valueCount', 'startValue', 'startDate',\n",
            "       'endValue', 'endDate'],\n",
            "      dtype='object')\n",
            "Info:\n",
            "<class 'pandas.core.frame.DataFrame'>\n",
            "Int64Index: 1047272 entries, 40 to 1048574\n",
            "Data columns (total 7 columns):\n",
            " #   Column      Non-Null Count    Dtype         \n",
            "---  ------      --------------    -----         \n",
            " 0   citizenId   1047272 non-null  int64         \n",
            " 1   type        1047272 non-null  object        \n",
            " 2   valueCount  0 non-null        float64       \n",
            " 3   startValue  0 non-null        float64       \n",
            " 4   startDate   0 non-null        datetime64[ns]\n",
            " 5   endValue    0 non-null        float64       \n",
            " 6   endDate     0 non-null        datetime64[ns]\n",
            "dtypes: datetime64[ns](2), float64(3), int64(1), object(1)\n",
            "memory usage: 63.9+ MB\n",
            "None\n",
            "Summary Statistics:\n",
            "          citizenId  valueCount  startValue  endValue\n",
            "count  1.047272e+06         0.0         0.0       0.0\n",
            "mean   9.193899e+00         NaN         NaN       NaN\n",
            "std    2.980045e+03         NaN         NaN       NaN\n",
            "min    0.000000e+00         NaN         NaN       NaN\n",
            "25%    0.000000e+00         NaN         NaN       NaN\n",
            "50%    0.000000e+00         NaN         NaN       NaN\n",
            "75%    0.000000e+00         NaN         NaN       NaN\n",
            "max    1.022212e+06         NaN         NaN       NaN\n",
            "1047272\n"
          ]
        }
      ]
    },
    {
      "cell_type": "markdown",
      "source": [
        "# Thus we keep data with type only"
      ],
      "metadata": {
        "id": "CflpS9WJWdam"
      }
    },
    {
      "cell_type": "code",
      "source": [
        "df = se_reg_df[se_reg_df['type'] != 'nan']\n",
        "print(len(df))"
      ],
      "metadata": {
        "colab": {
          "base_uri": "https://localhost:8080/"
        },
        "id": "Rg5ev6WsUzyM",
        "outputId": "6ff7a7d6-8695-4708-b476-71c7120fc352"
      },
      "execution_count": 48,
      "outputs": [
        {
          "output_type": "stream",
          "name": "stdout",
          "text": [
            "1303\n"
          ]
        }
      ]
    },
    {
      "cell_type": "code",
      "source": [
        "df.head()"
      ],
      "metadata": {
        "colab": {
          "base_uri": "https://localhost:8080/",
          "height": 206
        },
        "id": "-yh32idYXNp_",
        "outputId": "6c40a7ea-7c1b-4bfc-80c4-171d00c2ec72"
      },
      "execution_count": 49,
      "outputs": [
        {
          "output_type": "execute_result",
          "data": {
            "text/plain": [
              "   citizenId        type  valueCount  startValue  startDate  endValue  \\\n",
              "0     810359      WEIGHT         1.0        73.0 2020-10-08      73.0   \n",
              "1     811969  DIET_RULES       117.0         1.0 2020-10-13       1.0   \n",
              "2     811969    EXERCISE         3.0         7.0 2021-03-25      30.0   \n",
              "3     811969    MEDICINE        26.0         1.0 2020-10-13       1.0   \n",
              "4     811969       STEPS       219.0      1752.0 2020-09-11    7974.0   \n",
              "\n",
              "     endDate  \n",
              "0 2020-10-08  \n",
              "1 2021-04-19  \n",
              "2 2021-04-14  \n",
              "3 2020-12-22  \n",
              "4 2021-04-19  "
            ],
            "text/html": [
              "\n",
              "  <div id=\"df-88973ef6-9a09-434b-a07d-ef9fcb154b08\" class=\"colab-df-container\">\n",
              "    <div>\n",
              "<style scoped>\n",
              "    .dataframe tbody tr th:only-of-type {\n",
              "        vertical-align: middle;\n",
              "    }\n",
              "\n",
              "    .dataframe tbody tr th {\n",
              "        vertical-align: top;\n",
              "    }\n",
              "\n",
              "    .dataframe thead th {\n",
              "        text-align: right;\n",
              "    }\n",
              "</style>\n",
              "<table border=\"1\" class=\"dataframe\">\n",
              "  <thead>\n",
              "    <tr style=\"text-align: right;\">\n",
              "      <th></th>\n",
              "      <th>citizenId</th>\n",
              "      <th>type</th>\n",
              "      <th>valueCount</th>\n",
              "      <th>startValue</th>\n",
              "      <th>startDate</th>\n",
              "      <th>endValue</th>\n",
              "      <th>endDate</th>\n",
              "    </tr>\n",
              "  </thead>\n",
              "  <tbody>\n",
              "    <tr>\n",
              "      <th>0</th>\n",
              "      <td>810359</td>\n",
              "      <td>WEIGHT</td>\n",
              "      <td>1.0</td>\n",
              "      <td>73.0</td>\n",
              "      <td>2020-10-08</td>\n",
              "      <td>73.0</td>\n",
              "      <td>2020-10-08</td>\n",
              "    </tr>\n",
              "    <tr>\n",
              "      <th>1</th>\n",
              "      <td>811969</td>\n",
              "      <td>DIET_RULES</td>\n",
              "      <td>117.0</td>\n",
              "      <td>1.0</td>\n",
              "      <td>2020-10-13</td>\n",
              "      <td>1.0</td>\n",
              "      <td>2021-04-19</td>\n",
              "    </tr>\n",
              "    <tr>\n",
              "      <th>2</th>\n",
              "      <td>811969</td>\n",
              "      <td>EXERCISE</td>\n",
              "      <td>3.0</td>\n",
              "      <td>7.0</td>\n",
              "      <td>2021-03-25</td>\n",
              "      <td>30.0</td>\n",
              "      <td>2021-04-14</td>\n",
              "    </tr>\n",
              "    <tr>\n",
              "      <th>3</th>\n",
              "      <td>811969</td>\n",
              "      <td>MEDICINE</td>\n",
              "      <td>26.0</td>\n",
              "      <td>1.0</td>\n",
              "      <td>2020-10-13</td>\n",
              "      <td>1.0</td>\n",
              "      <td>2020-12-22</td>\n",
              "    </tr>\n",
              "    <tr>\n",
              "      <th>4</th>\n",
              "      <td>811969</td>\n",
              "      <td>STEPS</td>\n",
              "      <td>219.0</td>\n",
              "      <td>1752.0</td>\n",
              "      <td>2020-09-11</td>\n",
              "      <td>7974.0</td>\n",
              "      <td>2021-04-19</td>\n",
              "    </tr>\n",
              "  </tbody>\n",
              "</table>\n",
              "</div>\n",
              "    <div class=\"colab-df-buttons\">\n",
              "\n",
              "  <div class=\"colab-df-container\">\n",
              "    <button class=\"colab-df-convert\" onclick=\"convertToInteractive('df-88973ef6-9a09-434b-a07d-ef9fcb154b08')\"\n",
              "            title=\"Convert this dataframe to an interactive table.\"\n",
              "            style=\"display:none;\">\n",
              "\n",
              "  <svg xmlns=\"http://www.w3.org/2000/svg\" height=\"24px\" viewBox=\"0 -960 960 960\">\n",
              "    <path d=\"M120-120v-720h720v720H120Zm60-500h600v-160H180v160Zm220 220h160v-160H400v160Zm0 220h160v-160H400v160ZM180-400h160v-160H180v160Zm440 0h160v-160H620v160ZM180-180h160v-160H180v160Zm440 0h160v-160H620v160Z\"/>\n",
              "  </svg>\n",
              "    </button>\n",
              "\n",
              "  <style>\n",
              "    .colab-df-container {\n",
              "      display:flex;\n",
              "      gap: 12px;\n",
              "    }\n",
              "\n",
              "    .colab-df-convert {\n",
              "      background-color: #E8F0FE;\n",
              "      border: none;\n",
              "      border-radius: 50%;\n",
              "      cursor: pointer;\n",
              "      display: none;\n",
              "      fill: #1967D2;\n",
              "      height: 32px;\n",
              "      padding: 0 0 0 0;\n",
              "      width: 32px;\n",
              "    }\n",
              "\n",
              "    .colab-df-convert:hover {\n",
              "      background-color: #E2EBFA;\n",
              "      box-shadow: 0px 1px 2px rgba(60, 64, 67, 0.3), 0px 1px 3px 1px rgba(60, 64, 67, 0.15);\n",
              "      fill: #174EA6;\n",
              "    }\n",
              "\n",
              "    .colab-df-buttons div {\n",
              "      margin-bottom: 4px;\n",
              "    }\n",
              "\n",
              "    [theme=dark] .colab-df-convert {\n",
              "      background-color: #3B4455;\n",
              "      fill: #D2E3FC;\n",
              "    }\n",
              "\n",
              "    [theme=dark] .colab-df-convert:hover {\n",
              "      background-color: #434B5C;\n",
              "      box-shadow: 0px 1px 3px 1px rgba(0, 0, 0, 0.15);\n",
              "      filter: drop-shadow(0px 1px 2px rgba(0, 0, 0, 0.3));\n",
              "      fill: #FFFFFF;\n",
              "    }\n",
              "  </style>\n",
              "\n",
              "    <script>\n",
              "      const buttonEl =\n",
              "        document.querySelector('#df-88973ef6-9a09-434b-a07d-ef9fcb154b08 button.colab-df-convert');\n",
              "      buttonEl.style.display =\n",
              "        google.colab.kernel.accessAllowed ? 'block' : 'none';\n",
              "\n",
              "      async function convertToInteractive(key) {\n",
              "        const element = document.querySelector('#df-88973ef6-9a09-434b-a07d-ef9fcb154b08');\n",
              "        const dataTable =\n",
              "          await google.colab.kernel.invokeFunction('convertToInteractive',\n",
              "                                                    [key], {});\n",
              "        if (!dataTable) return;\n",
              "\n",
              "        const docLinkHtml = 'Like what you see? Visit the ' +\n",
              "          '<a target=\"_blank\" href=https://colab.research.google.com/notebooks/data_table.ipynb>data table notebook</a>'\n",
              "          + ' to learn more about interactive tables.';\n",
              "        element.innerHTML = '';\n",
              "        dataTable['output_type'] = 'display_data';\n",
              "        await google.colab.output.renderOutput(dataTable, element);\n",
              "        const docLink = document.createElement('div');\n",
              "        docLink.innerHTML = docLinkHtml;\n",
              "        element.appendChild(docLink);\n",
              "      }\n",
              "    </script>\n",
              "  </div>\n",
              "\n",
              "\n",
              "<div id=\"df-7457f24e-010b-4ae8-a231-2ca9d7925520\">\n",
              "  <button class=\"colab-df-quickchart\" onclick=\"quickchart('df-7457f24e-010b-4ae8-a231-2ca9d7925520')\"\n",
              "            title=\"Suggest charts.\"\n",
              "            style=\"display:none;\">\n",
              "\n",
              "<svg xmlns=\"http://www.w3.org/2000/svg\" height=\"24px\"viewBox=\"0 0 24 24\"\n",
              "     width=\"24px\">\n",
              "    <g>\n",
              "        <path d=\"M19 3H5c-1.1 0-2 .9-2 2v14c0 1.1.9 2 2 2h14c1.1 0 2-.9 2-2V5c0-1.1-.9-2-2-2zM9 17H7v-7h2v7zm4 0h-2V7h2v10zm4 0h-2v-4h2v4z\"/>\n",
              "    </g>\n",
              "</svg>\n",
              "  </button>\n",
              "\n",
              "<style>\n",
              "  .colab-df-quickchart {\n",
              "    background-color: #E8F0FE;\n",
              "    border: none;\n",
              "    border-radius: 50%;\n",
              "    cursor: pointer;\n",
              "    display: none;\n",
              "    fill: #1967D2;\n",
              "    height: 32px;\n",
              "    padding: 0 0 0 0;\n",
              "    width: 32px;\n",
              "  }\n",
              "\n",
              "  .colab-df-quickchart:hover {\n",
              "    background-color: #E2EBFA;\n",
              "    box-shadow: 0px 1px 2px rgba(60, 64, 67, 0.3), 0px 1px 3px 1px rgba(60, 64, 67, 0.15);\n",
              "    fill: #174EA6;\n",
              "  }\n",
              "\n",
              "  [theme=dark] .colab-df-quickchart {\n",
              "    background-color: #3B4455;\n",
              "    fill: #D2E3FC;\n",
              "  }\n",
              "\n",
              "  [theme=dark] .colab-df-quickchart:hover {\n",
              "    background-color: #434B5C;\n",
              "    box-shadow: 0px 1px 3px 1px rgba(0, 0, 0, 0.15);\n",
              "    filter: drop-shadow(0px 1px 2px rgba(0, 0, 0, 0.3));\n",
              "    fill: #FFFFFF;\n",
              "  }\n",
              "</style>\n",
              "\n",
              "  <script>\n",
              "    async function quickchart(key) {\n",
              "      const charts = await google.colab.kernel.invokeFunction(\n",
              "          'suggestCharts', [key], {});\n",
              "    }\n",
              "    (() => {\n",
              "      let quickchartButtonEl =\n",
              "        document.querySelector('#df-7457f24e-010b-4ae8-a231-2ca9d7925520 button');\n",
              "      quickchartButtonEl.style.display =\n",
              "        google.colab.kernel.accessAllowed ? 'block' : 'none';\n",
              "    })();\n",
              "  </script>\n",
              "</div>\n",
              "    </div>\n",
              "  </div>\n"
            ]
          },
          "metadata": {},
          "execution_count": 49
        }
      ]
    },
    {
      "cell_type": "code",
      "source": [
        "output_path = os.path.join(output_dir,\"start_end_registrations.csv\")\n",
        "print(output_path)"
      ],
      "metadata": {
        "colab": {
          "base_uri": "https://localhost:8080/"
        },
        "id": "gbpfpknnXwSu",
        "outputId": "d4f1f6f8-2e0a-4e91-95e7-838c15b4ab7a"
      },
      "execution_count": 51,
      "outputs": [
        {
          "output_type": "stream",
          "name": "stdout",
          "text": [
            "/content/drive/My Drive/Study@NZ/VUW@NZ/STATS 501/Project/pre_process_round_1/start_end_registrations.csv\n"
          ]
        }
      ]
    },
    {
      "cell_type": "code",
      "source": [
        "df.to_csv(output_path, index=False)"
      ],
      "metadata": {
        "id": "cekkyaMKXVBi"
      },
      "execution_count": 52,
      "outputs": []
    },
    {
      "cell_type": "markdown",
      "source": [
        "# Analysis goal type"
      ],
      "metadata": {
        "id": "CBnLe1YXYOJc"
      }
    },
    {
      "cell_type": "code",
      "source": [
        "unique_citi = df['citizenId'].unique()\n",
        "print(f\"there are {len(unique_citi)} unique citizen has goal\")"
      ],
      "metadata": {
        "colab": {
          "base_uri": "https://localhost:8080/"
        },
        "id": "hwHE-5WJXqrh",
        "outputId": "6be9a369-234a-4474-837f-48498322918b"
      },
      "execution_count": 55,
      "outputs": [
        {
          "output_type": "stream",
          "name": "stdout",
          "text": [
            "there are 357 unique citizen has goal\n"
          ]
        }
      ]
    },
    {
      "cell_type": "code",
      "source": [
        "# Group by 'citizenId' and count distinct 'type'\n",
        "count_by_citizen = df.groupby('citizenId')['type'].nunique().reset_index(name='distinct_type_count')\n",
        "\n",
        "# Sort by count\n",
        "sorted_count = count_by_citizen.sort_values(by='distinct_type_count', ascending=False)\n",
        "\n",
        "# Display sorted counts\n",
        "print(sorted_count)\n"
      ],
      "metadata": {
        "colab": {
          "base_uri": "https://localhost:8080/"
        },
        "id": "hgJSQX9OYdf4",
        "outputId": "3d927a28-aa94-416c-c9ba-f14ed105e315"
      },
      "execution_count": 58,
      "outputs": [
        {
          "output_type": "stream",
          "name": "stdout",
          "text": [
            "     citizenId  distinct_type_count\n",
            "138     966345                   11\n",
            "181     987689                   10\n",
            "73      920115                    9\n",
            "76      921863                    9\n",
            "94      939136                    8\n",
            "..         ...                  ...\n",
            "36      891457                    1\n",
            "220    1003812                    1\n",
            "323    1058092                    1\n",
            "213    1000132                    1\n",
            "0       810359                    1\n",
            "\n",
            "[357 rows x 2 columns]\n"
          ]
        }
      ]
    },
    {
      "cell_type": "code",
      "source": [
        "# Plot\n",
        "sns.set(style=\"whitegrid\")\n",
        "sns.kdeplot(sorted_count['distinct_type_count'], shade=True)\n",
        "plt.xlabel('Distinct Type Count')\n",
        "plt.ylabel('Density')\n",
        "plt.title('Density Plot of Distinct Type Count per CitizenId')\n",
        "plt.show()"
      ],
      "metadata": {
        "colab": {
          "base_uri": "https://localhost:8080/",
          "height": 587
        },
        "id": "kPrKVADMZKy5",
        "outputId": "a45dc96c-5919-4add-e551-8351ce7f359f"
      },
      "execution_count": 59,
      "outputs": [
        {
          "output_type": "stream",
          "name": "stderr",
          "text": [
            "<ipython-input-59-67c178e59709>:3: FutureWarning: \n",
            "\n",
            "`shade` is now deprecated in favor of `fill`; setting `fill=True`.\n",
            "This will become an error in seaborn v0.14.0; please update your code.\n",
            "\n",
            "  sns.kdeplot(sorted_count['distinct_type_count'], shade=True)\n"
          ]
        },
        {
          "output_type": "display_data",
          "data": {
            "text/plain": [
              "<Figure size 640x480 with 1 Axes>"
            ],
            "image/png": "[encoded data removed]"
          },
          "metadata": {}
        }
      ]
    },
    {
      "cell_type": "code",
      "source": [
        "# Get the count of citizenId for each distinct distinct_type_count\n",
        "citizen_count_by_distinct_type = sorted_count['distinct_type_count'].value_counts().reset_index().sort_values(by='index')\n",
        "citizen_count_by_distinct_type.columns = ['distinct_type_count', 'citizenId_count']\n",
        "\n",
        "# Display\n",
        "print(citizen_count_by_distinct_type)"
      ],
      "metadata": {
        "colab": {
          "base_uri": "https://localhost:8080/"
        },
        "id": "y3zdDtjfZsrT",
        "outputId": "6f85fd72-57fe-495a-e166-8888c8b43c26"
      },
      "execution_count": 60,
      "outputs": [
        {
          "output_type": "stream",
          "name": "stdout",
          "text": [
            "    distinct_type_count  citizenId_count\n",
            "4                     1               34\n",
            "2                     2               59\n",
            "0                     3               90\n",
            "1                     4               68\n",
            "3                     5               58\n",
            "5                     6               31\n",
            "6                     7               10\n",
            "7                     8                3\n",
            "8                     9                2\n",
            "10                   10                1\n",
            "9                    11                1\n"
          ]
        }
      ]
    },
    {
      "cell_type": "code",
      "source": [
        "# Set up the visual appearance\n",
        "sns.set(style=\"whitegrid\")\n",
        "\n",
        "# Create the bar plot\n",
        "plt.figure(figsize=(12, 6))\n",
        "sns.barplot(x='distinct_type_count', y='citizenId_count', data=citizen_count_by_distinct_type)\n",
        "\n",
        "# Add labels and title\n",
        "plt.xlabel('Distinct Type Count')\n",
        "plt.ylabel('Count of Citizen IDs')\n",
        "plt.title('Count of Citizen IDs by Distinct Type Count')\n",
        "\n",
        "# Show the plot\n",
        "plt.show()"
      ],
      "metadata": {
        "colab": {
          "base_uri": "https://localhost:8080/",
          "height": 573
        },
        "id": "stgDjWm8aDvP",
        "outputId": "5d846570-8d93-4792-e87d-f325847508d5"
      },
      "execution_count": 61,
      "outputs": [
        {
          "output_type": "display_data",
          "data": {
            "text/plain": [
              "<Figure size 1200x600 with 1 Axes>"
            ],
            "image/png": "[encoded data removed]"
          },
          "metadata": {}
        }
      ]
    },
    {
      "cell_type": "code",
      "source": [],
      "metadata": {
        "id": "zEdM4vHwaMIA"
      },
      "execution_count": null,
      "outputs": []
    }
  ]
}