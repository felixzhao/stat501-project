{
  "nbformat": 4,
  "nbformat_minor": 0,
  "metadata": {
    "colab": {
      "provenance": [],
      "authorship_tag": "ABX9TyP4NeD7AOVOJiCAcPe532g5",
      "include_colab_link": true
    },
    "kernelspec": {
      "name": "python3",
      "display_name": "Python 3"
    },
    "language_info": {
      "name": "python"
    }
  },
  "cells": [
    {
      "cell_type": "markdown",
      "metadata": {
        "id": "view-in-github",
        "colab_type": "text"
      },
      "source": [
        "<a href=\"https://colab.research.google.com/github/felixzhao/stat501-project/blob/main/notebooks/2_3_FZ_diff_analysis_citi_per_reg_type.ipynb\" target=\"_parent\"><img src=\"https://colab.research.google.com/assets/colab-badge.svg\" alt=\"Open In Colab\"/></a>"
      ]
    },
    {
      "cell_type": "code",
      "source": [
        "import os\n",
        "import pandas as pd\n",
        "import matplotlib.pyplot as plt\n",
        "import seaborn as sns"
      ],
      "metadata": {
        "id": "byf0tSrKa0h6"
      },
      "execution_count": 1,
      "outputs": []
    },
    {
      "cell_type": "code",
      "source": [
        "\n",
        "from google.colab import drive\n",
        "drive.mount('/content/drive')\n",
        "!ls \"/content/drive/My Drive/Study@NZ/VUW@NZ/STATS 501/Project/csv\""
      ],
      "metadata": {
        "colab": {
          "base_uri": "https://localhost:8080/"
        },
        "id": "87qAvVPnbDfI",
        "outputId": "51bb1b12-0d2d-4f47-910a-899c351fe7bb"
      },
      "execution_count": 2,
      "outputs": [
        {
          "output_type": "stream",
          "name": "stdout",
          "text": [
            "Mounted at /content/drive\n",
            "citizen_advisor_view.csv     registrations_per_goal.csv\n",
            "daily_chat_activity.csv      retention_milestone.csv\n",
            "goals_and_registrations.csv  Sheet1.csv\n",
            "intervention_history.csv     start_end_registrations.csv\n",
            "onboarding_medical_data.csv  user_data.csv\n",
            "onboarding_status.csv\t     weight_milestones.csv\n"
          ]
        }
      ]
    },
    {
      "cell_type": "markdown",
      "source": [
        "# load dfs"
      ],
      "metadata": {
        "id": "wqTeJhacilOg"
      }
    },
    {
      "cell_type": "code",
      "source": [
        "se_reg_df_path = '/content/drive/My Drive/Study@NZ/VUW@NZ/STATS 501/Project/pre_process_round_1/start_end_registrations.csv'\n",
        "reg_per_goal_df_path = '/content/drive/My Drive/Study@NZ/VUW@NZ/STATS 501/Project/csv/registrations_per_goal.csv'\n",
        "goal_reg_df_path = '/content/drive/My Drive/Study@NZ/VUW@NZ/STATS 501/Project/csv/goals_and_registrations.csv'"
      ],
      "metadata": {
        "id": "GbuoMdqNioz_"
      },
      "execution_count": 7,
      "outputs": []
    },
    {
      "cell_type": "markdown",
      "source": [
        "## load se reg"
      ],
      "metadata": {
        "id": "Ve6SlfmLjAvR"
      }
    },
    {
      "cell_type": "code",
      "source": [
        "se_reg_df = pd.read_csv(se_reg_df_path, low_memory=False)"
      ],
      "metadata": {
        "id": "8RVNnp4oh4j5"
      },
      "execution_count": 8,
      "outputs": []
    },
    {
      "cell_type": "markdown",
      "source": [
        "## load reg per goal"
      ],
      "metadata": {
        "id": "n5W-XB7ajIna"
      }
    },
    {
      "cell_type": "code",
      "execution_count": 10,
      "metadata": {
        "id": "QWfOe3D5akxR"
      },
      "outputs": [],
      "source": [
        "# Assuming table_path contains the path to your CSV file\n",
        "reg_per_goal_df = pd.read_csv(reg_per_goal_df_path, low_memory=False)"
      ]
    },
    {
      "cell_type": "code",
      "source": [
        "# Convert to DateTime format\n",
        "\n",
        "datetime_cols = ['lastActivity', 'startGoalDate', 'endGoalDate', 'firstRegistrationDateTime', 'lastRegistrationDateTime']\n",
        "reg_per_goal_df[datetime_cols] = reg_per_goal_df[datetime_cols].apply(pd.to_datetime, errors='coerce')\n",
        "\n",
        "# Convert to Category format\n",
        "category_cols = ['type', 'category', 'goalSubject', 'goalDescription', 'timeAggregation']\n",
        "reg_per_goal_df[category_cols] = reg_per_goal_df[category_cols].astype('category')\n",
        "\n",
        "# Convert object columns that should be numerical to float or integer\n",
        "# If conversion fails, invalid parsing will be set as NaN\n",
        "numerical_cols = ['goalValue', 'registrationValueAvg', 'registrationValueMin', 'registrationValueMax']\n",
        "for col in numerical_cols:\n",
        "    if col in reg_per_goal_df.columns:\n",
        "        reg_per_goal_df[col] = pd.to_numeric(reg_per_goal_df[col], errors='coerce')\n",
        "    else:\n",
        "        print(f\"Warning: Column {col} does not exist in DataFrame.\")"
      ],
      "metadata": {
        "id": "5wXa7DDpjaqb"
      },
      "execution_count": 11,
      "outputs": []
    },
    {
      "cell_type": "markdown",
      "source": [
        "## load goal and reg"
      ],
      "metadata": {
        "id": "zOUzBqVrk4HD"
      }
    },
    {
      "cell_type": "code",
      "source": [
        "# Assuming table_path contains the path to your CSV file\n",
        "goal_reg_df = pd.read_csv(goal_reg_df_path, low_memory=False)\n",
        "\n",
        "# Convert to DateTime format\n",
        "datetime_cols = ['lastActivity', 'startGoalDate', 'endGoalDate', 'registrationDateTime', 'time']\n",
        "goal_reg_df[datetime_cols] = goal_reg_df[datetime_cols].apply(pd.to_datetime, errors='coerce')\n",
        "\n",
        "# Convert to Category format\n",
        "category_cols = ['type', 'category', 'goalSubject']\n",
        "goal_reg_df[category_cols] = goal_reg_df[category_cols].astype('category')"
      ],
      "metadata": {
        "id": "aYo2VGpCk7ia"
      },
      "execution_count": 12,
      "outputs": []
    },
    {
      "cell_type": "markdown",
      "source": [
        "# analysis of Citi has goal"
      ],
      "metadata": {
        "id": "wbsCZEt0lKXu"
      }
    },
    {
      "cell_type": "code",
      "source": [
        "tables_dict = {\"start_end_registrations\": se_reg_df, \"registrations_per_goal\": reg_per_goal_df, \"goals_and_registrations\": goal_reg_df}"
      ],
      "metadata": {
        "id": "Ce-l3QeOlUhC"
      },
      "execution_count": 13,
      "outputs": []
    },
    {
      "cell_type": "code",
      "source": [
        "unique_citi_has_goal = {}\n",
        "for k, v in tables_dict.items():\n",
        "    unique_citi = v['citizenId'].unique()\n",
        "    print(f\"there are {len(unique_citi)} unique citizen has goal in {k}\")\n",
        "    unique_citi_has_goal[k] = unique_citi"
      ],
      "metadata": {
        "colab": {
          "base_uri": "https://localhost:8080/"
        },
        "id": "o0q8x2npk7oo",
        "outputId": "f9629951-673f-4e8d-b20b-6273b4ee5be1"
      },
      "execution_count": 15,
      "outputs": [
        {
          "output_type": "stream",
          "name": "stdout",
          "text": [
            "there are 357 unique citizen has goal in start_end_registrations\n",
            "there are 362 unique citizen has goal in registrations_per_goal\n",
            "there are 362 unique citizen has goal in goals_and_registrations\n"
          ]
        }
      ]
    },
    {
      "cell_type": "code",
      "source": [
        "# nested_list = [[1,2,3],[2,3,4],[5,6,7,8]]\n",
        "\n",
        "nested_list = []\n",
        "for k in unique_citi_has_goal.keys():\n",
        "    print(k)\n",
        "    nested_list.append(set(unique_citi_has_goal[k]))\n",
        "\n",
        "# unique_elements = []\n",
        "\n",
        "# for i in range(len(nested_list)):\n",
        "#     s1 = set(nested_list[i])\n",
        "#     s2 = set([elem for sublist in nested_list[:i] + nested_list[i+1:] for elem in sublist])\n",
        "#     unique_elements.append(s1 - s2)\n",
        "\n",
        "# print(unique_elements)"
      ],
      "metadata": {
        "colab": {
          "base_uri": "https://localhost:8080/"
        },
        "id": "DkCWK9pOk7rm",
        "outputId": "75661262-c91f-48d3-a0db-b1fc455f3efc"
      },
      "execution_count": 25,
      "outputs": [
        {
          "output_type": "stream",
          "name": "stdout",
          "text": [
            "start_end_registrations\n",
            "registrations_per_goal\n",
            "goals_and_registrations\n"
          ]
        }
      ]
    },
    {
      "cell_type": "code",
      "source": [
        "nested_list[1] - nested_list[0]"
      ],
      "metadata": {
        "colab": {
          "base_uri": "https://localhost:8080/"
        },
        "id": "ymz2lbBimW4i",
        "outputId": "3fd59b6b-fb8a-4bb8-cfee-b86614c55bc1"
      },
      "execution_count": 30,
      "outputs": [
        {
          "output_type": "execute_result",
          "data": {
            "text/plain": [
              "{0, 831841, 909811, 955121, 1022212}"
            ]
          },
          "metadata": {},
          "execution_count": 30
        }
      ]
    },
    {
      "cell_type": "code",
      "source": [
        "nested_list[2] - nested_list[0]"
      ],
      "metadata": {
        "colab": {
          "base_uri": "https://localhost:8080/"
        },
        "id": "vqeX2_fUnWHD",
        "outputId": "e2e82d9a-adc2-4843-ad7a-c5c6360977fd"
      },
      "execution_count": 31,
      "outputs": [
        {
          "output_type": "execute_result",
          "data": {
            "text/plain": [
              "{0, 831841, 909811, 955121, 1022212}"
            ]
          },
          "metadata": {},
          "execution_count": 31
        }
      ]
    },
    {
      "cell_type": "code",
      "source": [
        "nested_list[2] - nested_list[1]"
      ],
      "metadata": {
        "colab": {
          "base_uri": "https://localhost:8080/"
        },
        "id": "VR3ght05n6vH",
        "outputId": "c83e5c2c-a4b6-4f23-c1ad-06f99a674e7d"
      },
      "execution_count": 32,
      "outputs": [
        {
          "output_type": "execute_result",
          "data": {
            "text/plain": [
              "set()"
            ]
          },
          "metadata": {},
          "execution_count": 32
        }
      ]
    },
    {
      "cell_type": "code",
      "source": [
        "nested_list[1] - nested_list[2]"
      ],
      "metadata": {
        "colab": {
          "base_uri": "https://localhost:8080/"
        },
        "id": "pOXV4Ti2n9NK",
        "outputId": "675dafef-76ee-4f2b-9974-317d32367379"
      },
      "execution_count": 33,
      "outputs": [
        {
          "output_type": "execute_result",
          "data": {
            "text/plain": [
              "set()"
            ]
          },
          "metadata": {},
          "execution_count": 33
        }
      ]
    },
    {
      "cell_type": "markdown",
      "source": [
        "# Conclusion\n",
        "\n",
        "There are 4 citizens not in \"start end registration\", but in \"registrations per goal\" and \"goal and registration\" which are \"831841, 909811, 955121, 1022212\"\n",
        "\n",
        "the citizens in \"registrations per goal\" and \"goal and registration\" are same, count is 362"
      ],
      "metadata": {
        "id": "lJQYSIoSoBxK"
      }
    },
    {
      "cell_type": "code",
      "source": [],
      "metadata": {
        "id": "asNs3rugn_D_"
      },
      "execution_count": null,
      "outputs": []
    }
  ]
}