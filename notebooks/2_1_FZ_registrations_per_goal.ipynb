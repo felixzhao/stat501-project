{
  "nbformat": 4,
  "nbformat_minor": 0,
  "metadata": {
    "colab": {
      "provenance": [],
      "authorship_tag": "ABX9TyN+X35V23jKMcluZbifU2wy",
      "include_colab_link": true
    },
    "kernelspec": {
      "name": "python3",
      "display_name": "Python 3"
    },
    "language_info": {
      "name": "python"
    }
  },
  "cells": [
    {
      "cell_type": "markdown",
      "metadata": {
        "id": "view-in-github",
        "colab_type": "text"
      },
      "source": [
        "<a href=\"https://colab.research.google.com/github/felixzhao/stat501-project/blob/main/notebooks/2_1_FZ_registrations_per_goal.ipynb\" target=\"_parent\"><img src=\"https://colab.research.google.com/assets/colab-badge.svg\" alt=\"Open In Colab\"/></a>"
      ]
    },
    {
      "cell_type": "code",
      "source": [
        "import os\n",
        "import pandas as pd\n",
        "import matplotlib.pyplot as plt\n",
        "import seaborn as sns"
      ],
      "metadata": {
        "id": "byf0tSrKa0h6"
      },
      "execution_count": 2,
      "outputs": []
    },
    {
      "cell_type": "code",
      "source": [
        "from google.colab import drive\n",
        "drive.mount('/content/drive')\n",
        "!ls \"/content/drive/My Drive/Study@NZ/VUW@NZ/STATS 501/Project\""
      ],
      "metadata": {
        "colab": {
          "base_uri": "https://localhost:8080/"
        },
        "id": "87qAvVPnbDfI",
        "outputId": "54f728cd-907b-494d-e75f-7e6db0eba41d"
      },
      "execution_count": 3,
      "outputs": [
        {
          "output_type": "stream",
          "name": "stdout",
          "text": [
            "Mounted at /content/drive\n",
            " CoachHandbook.docx\t'Data Dictionary.gdoc'\t\t   Texts.csv\n",
            " csv\t\t\t pre_process_round_1\n",
            "'Data Dictionary.docx'\t'Stats Consulting Data (1).xlsx'\n"
          ]
        }
      ]
    },
    {
      "cell_type": "code",
      "execution_count": 5,
      "metadata": {
        "colab": {
          "base_uri": "https://localhost:8080/"
        },
        "id": "QWfOe3D5akxR",
        "outputId": "d8b3d59b-2393-4eb4-85f6-bbd2d6ef0535"
      },
      "outputs": [
        {
          "output_type": "stream",
          "name": "stdout",
          "text": [
            "/content/drive/My Drive/Study@NZ/VUW@NZ/STATS 501/Project/csv/registrations_per_goal.csv\n"
          ]
        }
      ],
      "source": [
        "table_name = \"registrations_per_goal.csv\"\n",
        "root = \"/content/drive/My Drive/Study@NZ/VUW@NZ/STATS 501/Project/csv\"\n",
        "table_path = os.path.join(root, table_name)\n",
        "print(table_path)"
      ]
    },
    {
      "cell_type": "code",
      "source": [
        "def summary(df):\n",
        "    print(\"Columns:\")\n",
        "    print(df.columns)\n",
        "\n",
        "    # Display summary information\n",
        "    print(\"Info:\")\n",
        "    print(df.info())\n",
        "\n",
        "    # Display summary statistics\n",
        "    print(\"Summary Statistics:\")\n",
        "    print(df.describe())"
      ],
      "metadata": {
        "id": "t_P9LNBIbczR"
      },
      "execution_count": 8,
      "outputs": []
    },
    {
      "cell_type": "code",
      "source": [
        "df = pd.read_csv(table_path)\n",
        "summary(df)"
      ],
      "metadata": {
        "colab": {
          "base_uri": "https://localhost:8080/"
        },
        "id": "JS6fGavmbJYb",
        "outputId": "bc034669-ac14-4b84-d418-e6834ff20a29"
      },
      "execution_count": 9,
      "outputs": [
        {
          "output_type": "stream",
          "name": "stderr",
          "text": [
            "<ipython-input-9-c16508073b13>:1: DtypeWarning: Columns (1,2,3,4,5,6,8,9,10,11,17,18,19,20) have mixed types. Specify dtype option on import or set low_memory=False.\n",
            "  df = pd.read_csv(table_path)\n"
          ]
        },
        {
          "output_type": "stream",
          "name": "stdout",
          "text": [
            "Columns:\n",
            "Index(['citizenId', 'lastActivity', 'type', 'category', 'startGoalDate',\n",
            "       'endGoalDate', 'goalValue', 'goalFrequencyPerWeek', 'goalSubject',\n",
            "       'goalDescription', 'firstRegistrationDateTime',\n",
            "       'lastRegistrationDateTime', 'regCountExpected', 'registrationCount',\n",
            "       'registrationTrue', 'registrationAboveGoalValue',\n",
            "       'registrationBelowGoalValue', 'registrationValueAvg',\n",
            "       'registrationValueMin', 'registrationValueMax', 'timeAggregation',\n",
            "       'RegPercent', 'TrueRegPercent'],\n",
            "      dtype='object')\n",
            "Info:\n",
            "<class 'pandas.core.frame.DataFrame'>\n",
            "RangeIndex: 1048575 entries, 0 to 1048574\n",
            "Data columns (total 23 columns):\n",
            " #   Column                      Non-Null Count    Dtype  \n",
            "---  ------                      --------------    -----  \n",
            " 0   citizenId                   1048575 non-null  int64  \n",
            " 1   lastActivity                3404 non-null     object \n",
            " 2   type                        3404 non-null     object \n",
            " 3   category                    1151 non-null     object \n",
            " 4   startGoalDate               2417 non-null     object \n",
            " 5   endGoalDate                 924 non-null      object \n",
            " 6   goalValue                   1108 non-null     object \n",
            " 7   goalFrequencyPerWeek        1195 non-null     float64\n",
            " 8   goalSubject                 1186 non-null     object \n",
            " 9   goalDescription             1210 non-null     object \n",
            " 10  firstRegistrationDateTime   2732 non-null     object \n",
            " 11  lastRegistrationDateTime    2732 non-null     object \n",
            " 12  regCountExpected            2386 non-null     float64\n",
            " 13  registrationCount           3404 non-null     float64\n",
            " 14  registrationTrue            1250 non-null     float64\n",
            " 15  registrationAboveGoalValue  2154 non-null     float64\n",
            " 16  registrationBelowGoalValue  2154 non-null     float64\n",
            " 17  registrationValueAvg        1819 non-null     object \n",
            " 18  registrationValueMin        1819 non-null     object \n",
            " 19  registrationValueMax        1819 non-null     object \n",
            " 20  timeAggregation             1166 non-null     object \n",
            " 21  RegPercent                  1546 non-null     float64\n",
            " 22  TrueRegPercent              830 non-null      float64\n",
            "dtypes: float64(8), int64(1), object(14)\n",
            "memory usage: 184.0+ MB\n",
            "None\n",
            "Summary Statistics:\n",
            "          citizenId  goalFrequencyPerWeek  regCountExpected  \\\n",
            "count  1.048575e+06           1195.000000       2386.000000   \n",
            "mean   3.148190e+03              6.491213        116.628667   \n",
            "std    5.529533e+04              2.554376        159.808217   \n",
            "min    0.000000e+00              0.000000       -132.000000   \n",
            "25%    0.000000e+00              7.000000          8.000000   \n",
            "50%    0.000000e+00              7.000000         42.500000   \n",
            "75%    0.000000e+00              7.000000        181.750000   \n",
            "max    1.192205e+06             40.000000       2291.000000   \n",
            "\n",
            "       registrationCount  registrationTrue  registrationAboveGoalValue  \\\n",
            "count        3404.000000       1250.000000                 2154.000000   \n",
            "mean           29.805229         18.806400                    4.495357   \n",
            "std            80.651046         39.534918                   21.995845   \n",
            "min             0.000000          0.000000                    0.000000   \n",
            "25%             1.000000          0.000000                    0.000000   \n",
            "50%             3.000000          3.000000                    0.000000   \n",
            "75%            17.000000         19.000000                    1.000000   \n",
            "max           666.000000        357.000000                  420.000000   \n",
            "\n",
            "       registrationBelowGoalValue   RegPercent  TrueRegPercent  \n",
            "count                 2154.000000  1546.000000      830.000000  \n",
            "mean                     9.123491    23.000647       17.002410  \n",
            "std                     41.331245    28.884425       21.197446  \n",
            "min                      0.000000     0.000000        0.000000  \n",
            "25%                      0.000000     1.000000        1.000000  \n",
            "50%                      0.000000    10.000000        8.000000  \n",
            "75%                      1.000000    36.000000       26.000000  \n",
            "max                    481.000000   109.000000       95.000000  \n"
          ]
        }
      ]
    },
    {
      "cell_type": "markdown",
      "source": [
        "# format cols"
      ],
      "metadata": {
        "id": "14y_f2cGb9SR"
      }
    },
    {
      "cell_type": "code",
      "source": [
        "# Convert columns with date information to datetime objects\n",
        "df['lastActivity'] = pd.to_datetime(df['lastActivity'], errors='coerce')\n",
        "df['startGoalDate'] = pd.to_datetime(df['startGoalDate'], errors='coerce')\n",
        "df['endGoalDate'] = pd.to_datetime(df['endGoalDate'], errors='coerce')\n",
        "df['firstRegistrationDateTime'] = pd.to_datetime(df['firstRegistrationDateTime'], errors='coerce')\n",
        "df['lastRegistrationDateTime'] = pd.to_datetime(df['lastRegistrationDateTime'], errors='coerce')\n",
        "\n",
        "# Convert object columns with categorical data to category data type\n",
        "df['type'] = df['type'].astype('category')\n",
        "df['category'] = df['category'].astype('category')\n",
        "df['goalSubject'] = df['goalSubject'].astype('category')\n",
        "df['goalDescription'] = df['goalDescription'].astype('category')\n",
        "df['timeAggregation'] = df['timeAggregation'].astype('category')\n",
        "\n",
        "# Convert object columns that should be numerical to float or integer\n",
        "# If conversion fails, invalid parsing will be set as NaN\n",
        "df['goalValue'] = pd.to_numeric(df['goalValue'], errors='coerce')\n",
        "df['registrationValueAvg'] = pd.to_numeric(df['registrationValueAvg'], errors='coerce')\n",
        "df['registrationValueMin'] = pd.to_numeric(df['registrationValueMin'], errors='coerce')\n",
        "df['registrationValueMax'] = pd.to_numeric(df['registrationValueMax'], errors='coerce')\n"
      ],
      "metadata": {
        "id": "IERCBq_rbRi5"
      },
      "execution_count": 10,
      "outputs": []
    },
    {
      "cell_type": "code",
      "source": [
        "df.dtypes"
      ],
      "metadata": {
        "colab": {
          "base_uri": "https://localhost:8080/"
        },
        "id": "YgSKWPJ0b-97",
        "outputId": "13230d23-f23a-4662-8c5d-6ebe4cd02862"
      },
      "execution_count": 14,
      "outputs": [
        {
          "output_type": "execute_result",
          "data": {
            "text/plain": [
              "citizenId                              int64\n",
              "lastActivity                  datetime64[ns]\n",
              "type                                category\n",
              "category                            category\n",
              "startGoalDate                 datetime64[ns]\n",
              "endGoalDate                   datetime64[ns]\n",
              "goalValue                            float64\n",
              "goalFrequencyPerWeek                 float64\n",
              "goalSubject                         category\n",
              "goalDescription                     category\n",
              "firstRegistrationDateTime     datetime64[ns]\n",
              "lastRegistrationDateTime      datetime64[ns]\n",
              "regCountExpected                     float64\n",
              "registrationCount                    float64\n",
              "registrationTrue                     float64\n",
              "registrationAboveGoalValue           float64\n",
              "registrationBelowGoalValue           float64\n",
              "registrationValueAvg                 float64\n",
              "registrationValueMin                 float64\n",
              "registrationValueMax                 float64\n",
              "timeAggregation                     category\n",
              "RegPercent                           float64\n",
              "TrueRegPercent                       float64\n",
              "dtype: object"
            ]
          },
          "metadata": {},
          "execution_count": 14
        }
      ]
    },
    {
      "cell_type": "code",
      "source": [
        "df.head()"
      ],
      "metadata": {
        "colab": {
          "base_uri": "https://localhost:8080/",
          "height": 394
        },
        "id": "Z-Eh4_9hcBNg",
        "outputId": "f77ed7b2-41d1-4a43-898f-94f4f9bae479"
      },
      "execution_count": 13,
      "outputs": [
        {
          "output_type": "execute_result",
          "data": {
            "text/plain": [
              "   citizenId        lastActivity        type category startGoalDate  \\\n",
              "0     955397 2021-08-29 12:51:01  DIET_RULES      NaN    2021-08-12   \n",
              "1     955397 2021-08-29 12:51:01  LIFE_RULES      NaN    2021-08-12   \n",
              "2     955420 2021-11-11 08:01:41  DIET_RULES      NaN    2021-08-12   \n",
              "3     955420 2021-11-11 08:01:41  LIFE_RULES      NaN    2021-08-12   \n",
              "4     957973 2021-11-05 21:10:17  DIET_RULES      NaN    2021-08-16   \n",
              "\n",
              "  endGoalDate  goalValue  goalFrequencyPerWeek                goalSubject  \\\n",
              "0         NaT        NaN                   7.0                       Iron   \n",
              "1         NaT        NaN                   7.0  During pregnancy cravings   \n",
              "2         NaT        NaN                   7.0                 Food diary   \n",
              "3         NaT        NaN                   7.0                     Stairs   \n",
              "4         NaT        NaN                   4.0                  Breakfast   \n",
              "\n",
              "                                     goalDescription  ... registrationCount  \\\n",
              "0                             Need to intake spinach  ...               0.0   \n",
              "1  Having a bath\\nHaving a sprite \\nHaving an out...  ...               0.0   \n",
              "2                  Working out what spikes my sugars  ...               3.0   \n",
              "3            Take the stairs instead of lift at work  ...              18.0   \n",
              "4                       High fibre ( 3 days a week )  ...              38.0   \n",
              "\n",
              "  registrationTrue  registrationAboveGoalValue  registrationBelowGoalValue  \\\n",
              "0              0.0                         NaN                         NaN   \n",
              "1              0.0                         NaN                         NaN   \n",
              "2              2.0                         NaN                         NaN   \n",
              "3             18.0                         NaN                         NaN   \n",
              "4             38.0                         NaN                         NaN   \n",
              "\n",
              "   registrationValueAvg  registrationValueMin  registrationValueMax  \\\n",
              "0                   NaN                   NaN                   NaN   \n",
              "1                   NaN                   NaN                   NaN   \n",
              "2                   NaN                   NaN                   NaN   \n",
              "3                   NaN                   NaN                   NaN   \n",
              "4                   NaN                   NaN                   NaN   \n",
              "\n",
              "   timeAggregation  RegPercent  TrueRegPercent  \n",
              "0              NaN         NaN             NaN  \n",
              "1              NaN         NaN             NaN  \n",
              "2              NaN         3.0             2.0  \n",
              "3              NaN        20.0            20.0  \n",
              "4              NaN        83.0            83.0  \n",
              "\n",
              "[5 rows x 23 columns]"
            ],
            "text/html": [
              "\n",
              "  <div id=\"df-952de38b-a529-47c0-9af6-849aac490a8e\" class=\"colab-df-container\">\n",
              "    <div>\n",
              "<style scoped>\n",
              "    .dataframe tbody tr th:only-of-type {\n",
              "        vertical-align: middle;\n",
              "    }\n",
              "\n",
              "    .dataframe tbody tr th {\n",
              "        vertical-align: top;\n",
              "    }\n",
              "\n",
              "    .dataframe thead th {\n",
              "        text-align: right;\n",
              "    }\n",
              "</style>\n",
              "<table border=\"1\" class=\"dataframe\">\n",
              "  <thead>\n",
              "    <tr style=\"text-align: right;\">\n",
              "      <th></th>\n",
              "      <th>citizenId</th>\n",
              "      <th>lastActivity</th>\n",
              "      <th>type</th>\n",
              "      <th>category</th>\n",
              "      <th>startGoalDate</th>\n",
              "      <th>endGoalDate</th>\n",
              "      <th>goalValue</th>\n",
              "      <th>goalFrequencyPerWeek</th>\n",
              "      <th>goalSubject</th>\n",
              "      <th>goalDescription</th>\n",
              "      <th>...</th>\n",
              "      <th>registrationCount</th>\n",
              "      <th>registrationTrue</th>\n",
              "      <th>registrationAboveGoalValue</th>\n",
              "      <th>registrationBelowGoalValue</th>\n",
              "      <th>registrationValueAvg</th>\n",
              "      <th>registrationValueMin</th>\n",
              "      <th>registrationValueMax</th>\n",
              "      <th>timeAggregation</th>\n",
              "      <th>RegPercent</th>\n",
              "      <th>TrueRegPercent</th>\n",
              "    </tr>\n",
              "  </thead>\n",
              "  <tbody>\n",
              "    <tr>\n",
              "      <th>0</th>\n",
              "      <td>955397</td>\n",
              "      <td>2021-08-29 12:51:01</td>\n",
              "      <td>DIET_RULES</td>\n",
              "      <td>NaN</td>\n",
              "      <td>2021-08-12</td>\n",
              "      <td>NaT</td>\n",
              "      <td>NaN</td>\n",
              "      <td>7.0</td>\n",
              "      <td>Iron</td>\n",
              "      <td>Need to intake spinach</td>\n",
              "      <td>...</td>\n",
              "      <td>0.0</td>\n",
              "      <td>0.0</td>\n",
              "      <td>NaN</td>\n",
              "      <td>NaN</td>\n",
              "      <td>NaN</td>\n",
              "      <td>NaN</td>\n",
              "      <td>NaN</td>\n",
              "      <td>NaN</td>\n",
              "      <td>NaN</td>\n",
              "      <td>NaN</td>\n",
              "    </tr>\n",
              "    <tr>\n",
              "      <th>1</th>\n",
              "      <td>955397</td>\n",
              "      <td>2021-08-29 12:51:01</td>\n",
              "      <td>LIFE_RULES</td>\n",
              "      <td>NaN</td>\n",
              "      <td>2021-08-12</td>\n",
              "      <td>NaT</td>\n",
              "      <td>NaN</td>\n",
              "      <td>7.0</td>\n",
              "      <td>During pregnancy cravings</td>\n",
              "      <td>Having a bath\\nHaving a sprite \\nHaving an out...</td>\n",
              "      <td>...</td>\n",
              "      <td>0.0</td>\n",
              "      <td>0.0</td>\n",
              "      <td>NaN</td>\n",
              "      <td>NaN</td>\n",
              "      <td>NaN</td>\n",
              "      <td>NaN</td>\n",
              "      <td>NaN</td>\n",
              "      <td>NaN</td>\n",
              "      <td>NaN</td>\n",
              "      <td>NaN</td>\n",
              "    </tr>\n",
              "    <tr>\n",
              "      <th>2</th>\n",
              "      <td>955420</td>\n",
              "      <td>2021-11-11 08:01:41</td>\n",
              "      <td>DIET_RULES</td>\n",
              "      <td>NaN</td>\n",
              "      <td>2021-08-12</td>\n",
              "      <td>NaT</td>\n",
              "      <td>NaN</td>\n",
              "      <td>7.0</td>\n",
              "      <td>Food diary</td>\n",
              "      <td>Working out what spikes my sugars</td>\n",
              "      <td>...</td>\n",
              "      <td>3.0</td>\n",
              "      <td>2.0</td>\n",
              "      <td>NaN</td>\n",
              "      <td>NaN</td>\n",
              "      <td>NaN</td>\n",
              "      <td>NaN</td>\n",
              "      <td>NaN</td>\n",
              "      <td>NaN</td>\n",
              "      <td>3.0</td>\n",
              "      <td>2.0</td>\n",
              "    </tr>\n",
              "    <tr>\n",
              "      <th>3</th>\n",
              "      <td>955420</td>\n",
              "      <td>2021-11-11 08:01:41</td>\n",
              "      <td>LIFE_RULES</td>\n",
              "      <td>NaN</td>\n",
              "      <td>2021-08-12</td>\n",
              "      <td>NaT</td>\n",
              "      <td>NaN</td>\n",
              "      <td>7.0</td>\n",
              "      <td>Stairs</td>\n",
              "      <td>Take the stairs instead of lift at work</td>\n",
              "      <td>...</td>\n",
              "      <td>18.0</td>\n",
              "      <td>18.0</td>\n",
              "      <td>NaN</td>\n",
              "      <td>NaN</td>\n",
              "      <td>NaN</td>\n",
              "      <td>NaN</td>\n",
              "      <td>NaN</td>\n",
              "      <td>NaN</td>\n",
              "      <td>20.0</td>\n",
              "      <td>20.0</td>\n",
              "    </tr>\n",
              "    <tr>\n",
              "      <th>4</th>\n",
              "      <td>957973</td>\n",
              "      <td>2021-11-05 21:10:17</td>\n",
              "      <td>DIET_RULES</td>\n",
              "      <td>NaN</td>\n",
              "      <td>2021-08-16</td>\n",
              "      <td>NaT</td>\n",
              "      <td>NaN</td>\n",
              "      <td>4.0</td>\n",
              "      <td>Breakfast</td>\n",
              "      <td>High fibre ( 3 days a week )</td>\n",
              "      <td>...</td>\n",
              "      <td>38.0</td>\n",
              "      <td>38.0</td>\n",
              "      <td>NaN</td>\n",
              "      <td>NaN</td>\n",
              "      <td>NaN</td>\n",
              "      <td>NaN</td>\n",
              "      <td>NaN</td>\n",
              "      <td>NaN</td>\n",
              "      <td>83.0</td>\n",
              "      <td>83.0</td>\n",
              "    </tr>\n",
              "  </tbody>\n",
              "</table>\n",
              "<p>5 rows × 23 columns</p>\n",
              "</div>\n",
              "    <div class=\"colab-df-buttons\">\n",
              "\n",
              "  <div class=\"colab-df-container\">\n",
              "    <button class=\"colab-df-convert\" onclick=\"convertToInteractive('df-952de38b-a529-47c0-9af6-849aac490a8e')\"\n",
              "            title=\"Convert this dataframe to an interactive table.\"\n",
              "            style=\"display:none;\">\n",
              "\n",
              "  <svg xmlns=\"http://www.w3.org/2000/svg\" height=\"24px\" viewBox=\"0 -960 960 960\">\n",
              "    <path d=\"M120-120v-720h720v720H120Zm60-500h600v-160H180v160Zm220 220h160v-160H400v160Zm0 220h160v-160H400v160ZM180-400h160v-160H180v160Zm440 0h160v-160H620v160ZM180-180h160v-160H180v160Zm440 0h160v-160H620v160Z\"/>\n",
              "  </svg>\n",
              "    </button>\n",
              "\n",
              "  <style>\n",
              "    .colab-df-container {\n",
              "      display:flex;\n",
              "      gap: 12px;\n",
              "    }\n",
              "\n",
              "    .colab-df-convert {\n",
              "      background-color: #E8F0FE;\n",
              "      border: none;\n",
              "      border-radius: 50%;\n",
              "      cursor: pointer;\n",
              "      display: none;\n",
              "      fill: #1967D2;\n",
              "      height: 32px;\n",
              "      padding: 0 0 0 0;\n",
              "      width: 32px;\n",
              "    }\n",
              "\n",
              "    .colab-df-convert:hover {\n",
              "      background-color: #E2EBFA;\n",
              "      box-shadow: 0px 1px 2px rgba(60, 64, 67, 0.3), 0px 1px 3px 1px rgba(60, 64, 67, 0.15);\n",
              "      fill: #174EA6;\n",
              "    }\n",
              "\n",
              "    .colab-df-buttons div {\n",
              "      margin-bottom: 4px;\n",
              "    }\n",
              "\n",
              "    [theme=dark] .colab-df-convert {\n",
              "      background-color: #3B4455;\n",
              "      fill: #D2E3FC;\n",
              "    }\n",
              "\n",
              "    [theme=dark] .colab-df-convert:hover {\n",
              "      background-color: #434B5C;\n",
              "      box-shadow: 0px 1px 3px 1px rgba(0, 0, 0, 0.15);\n",
              "      filter: drop-shadow(0px 1px 2px rgba(0, 0, 0, 0.3));\n",
              "      fill: #FFFFFF;\n",
              "    }\n",
              "  </style>\n",
              "\n",
              "    <script>\n",
              "      const buttonEl =\n",
              "        document.querySelector('#df-952de38b-a529-47c0-9af6-849aac490a8e button.colab-df-convert');\n",
              "      buttonEl.style.display =\n",
              "        google.colab.kernel.accessAllowed ? 'block' : 'none';\n",
              "\n",
              "      async function convertToInteractive(key) {\n",
              "        const element = document.querySelector('#df-952de38b-a529-47c0-9af6-849aac490a8e');\n",
              "        const dataTable =\n",
              "          await google.colab.kernel.invokeFunction('convertToInteractive',\n",
              "                                                    [key], {});\n",
              "        if (!dataTable) return;\n",
              "\n",
              "        const docLinkHtml = 'Like what you see? Visit the ' +\n",
              "          '<a target=\"_blank\" href=https://colab.research.google.com/notebooks/data_table.ipynb>data table notebook</a>'\n",
              "          + ' to learn more about interactive tables.';\n",
              "        element.innerHTML = '';\n",
              "        dataTable['output_type'] = 'display_data';\n",
              "        await google.colab.output.renderOutput(dataTable, element);\n",
              "        const docLink = document.createElement('div');\n",
              "        docLink.innerHTML = docLinkHtml;\n",
              "        element.appendChild(docLink);\n",
              "      }\n",
              "    </script>\n",
              "  </div>\n",
              "\n",
              "\n",
              "<div id=\"df-afa1c270-a5a7-40da-b4ea-df19de2dd05b\">\n",
              "  <button class=\"colab-df-quickchart\" onclick=\"quickchart('df-afa1c270-a5a7-40da-b4ea-df19de2dd05b')\"\n",
              "            title=\"Suggest charts.\"\n",
              "            style=\"display:none;\">\n",
              "\n",
              "<svg xmlns=\"http://www.w3.org/2000/svg\" height=\"24px\"viewBox=\"0 0 24 24\"\n",
              "     width=\"24px\">\n",
              "    <g>\n",
              "        <path d=\"M19 3H5c-1.1 0-2 .9-2 2v14c0 1.1.9 2 2 2h14c1.1 0 2-.9 2-2V5c0-1.1-.9-2-2-2zM9 17H7v-7h2v7zm4 0h-2V7h2v10zm4 0h-2v-4h2v4z\"/>\n",
              "    </g>\n",
              "</svg>\n",
              "  </button>\n",
              "\n",
              "<style>\n",
              "  .colab-df-quickchart {\n",
              "    background-color: #E8F0FE;\n",
              "    border: none;\n",
              "    border-radius: 50%;\n",
              "    cursor: pointer;\n",
              "    display: none;\n",
              "    fill: #1967D2;\n",
              "    height: 32px;\n",
              "    padding: 0 0 0 0;\n",
              "    width: 32px;\n",
              "  }\n",
              "\n",
              "  .colab-df-quickchart:hover {\n",
              "    background-color: #E2EBFA;\n",
              "    box-shadow: 0px 1px 2px rgba(60, 64, 67, 0.3), 0px 1px 3px 1px rgba(60, 64, 67, 0.15);\n",
              "    fill: #174EA6;\n",
              "  }\n",
              "\n",
              "  [theme=dark] .colab-df-quickchart {\n",
              "    background-color: #3B4455;\n",
              "    fill: #D2E3FC;\n",
              "  }\n",
              "\n",
              "  [theme=dark] .colab-df-quickchart:hover {\n",
              "    background-color: #434B5C;\n",
              "    box-shadow: 0px 1px 3px 1px rgba(0, 0, 0, 0.15);\n",
              "    filter: drop-shadow(0px 1px 2px rgba(0, 0, 0, 0.3));\n",
              "    fill: #FFFFFF;\n",
              "  }\n",
              "</style>\n",
              "\n",
              "  <script>\n",
              "    async function quickchart(key) {\n",
              "      const charts = await google.colab.kernel.invokeFunction(\n",
              "          'suggestCharts', [key], {});\n",
              "    }\n",
              "    (() => {\n",
              "      let quickchartButtonEl =\n",
              "        document.querySelector('#df-afa1c270-a5a7-40da-b4ea-df19de2dd05b button');\n",
              "      quickchartButtonEl.style.display =\n",
              "        google.colab.kernel.accessAllowed ? 'block' : 'none';\n",
              "    })();\n",
              "  </script>\n",
              "</div>\n",
              "    </div>\n",
              "  </div>\n"
            ]
          },
          "metadata": {},
          "execution_count": 13
        }
      ]
    },
    {
      "cell_type": "markdown",
      "source": [
        "# reg type analysis"
      ],
      "metadata": {
        "id": "LNGI7np4c7cV"
      }
    },
    {
      "cell_type": "code",
      "source": [
        "# Assuming df is your DataFrame\n",
        "unique_types = df['type'].unique()\n",
        "print(\"Unique Types:\")\n",
        "print(unique_types)\n",
        "print(len(unique_types))\n",
        "\n",
        "type_counts = df['type'].value_counts()\n",
        "print(\"Count of Each Unique Type:\")\n",
        "print(type_counts)"
      ],
      "metadata": {
        "colab": {
          "base_uri": "https://localhost:8080/"
        },
        "id": "D3jvpkjjcMQY",
        "outputId": "108344ce-de53-435c-be0b-70921a939df0"
      },
      "execution_count": 19,
      "outputs": [
        {
          "output_type": "stream",
          "name": "stdout",
          "text": [
            "Unique Types:\n",
            "['DIET_RULES', 'LIFE_RULES', 'MEDICINE', 'BREASTFEEDING', 'FASTING_BLOOD_SUGAR', ..., 'ALCOHOL', 'BLOOD_SUGAR', 'CIGARETTES', 'EXERCISE', NaN]\n",
            "Length: 17\n",
            "Categories (16, object): ['ALCOHOL', 'BLOOD_PRESSURE', 'BLOOD_SUGAR', 'BREASTFEEDING', ...,\n",
            "                          'SLEEP', 'STEPS', 'WAIST_HIP', 'WEIGHT']\n",
            "17\n",
            "Count of Each Unique Type:\n",
            "EXERCISE               1151\n",
            "DIET_RULES              759\n",
            "WEIGHT                  440\n",
            "LIFE_RULES              413\n",
            "STEPS                   304\n",
            "SLEEP                    95\n",
            "MOOD                     71\n",
            "MEDICINE                 62\n",
            "PAIN                     31\n",
            "BLOOD_PRESSURE           21\n",
            "BREASTFEEDING            16\n",
            "FASTING_BLOOD_SUGAR      15\n",
            "WAIST_HIP                10\n",
            "ALCOHOL                   6\n",
            "CIGARETTES                6\n",
            "BLOOD_SUGAR               4\n",
            "Name: type, dtype: int64\n"
          ]
        }
      ]
    },
    {
      "cell_type": "code",
      "source": [
        "unique_citi = df['citizenId'].unique()\n",
        "print(f\"there are {len(unique_citi)} unique citizen has reg types\")"
      ],
      "metadata": {
        "colab": {
          "base_uri": "https://localhost:8080/"
        },
        "id": "aP26AVskc8gr",
        "outputId": "d68c8065-cf55-44e6-e1d2-9fbb0166d5fc"
      },
      "execution_count": 20,
      "outputs": [
        {
          "output_type": "stream",
          "name": "stdout",
          "text": [
            "there are 362 unique citizen has reg types\n"
          ]
        }
      ]
    },
    {
      "cell_type": "code",
      "source": [
        "# Group by 'citizenId' and count distinct 'type'\n",
        "count_by_citizen = df.groupby('citizenId')['type'].nunique().reset_index(name='distinct_type_count')\n",
        "\n",
        "# Sort by count\n",
        "sorted_count = count_by_citizen.sort_values(by='distinct_type_count', ascending=False)\n",
        "\n",
        "# Display sorted counts\n",
        "print(sorted_count)"
      ],
      "metadata": {
        "colab": {
          "base_uri": "https://localhost:8080/"
        },
        "id": "SbqvdGkfdicm",
        "outputId": "f719f824-74d3-4550-ac4c-16d23a97cdd1"
      },
      "execution_count": 21,
      "outputs": [
        {
          "output_type": "stream",
          "name": "stdout",
          "text": [
            "     citizenId  distinct_type_count\n",
            "76      920115                   13\n",
            "142     966345                   13\n",
            "201     996130                   12\n",
            "12      831841                   11\n",
            "185     987689                   10\n",
            "..         ...                  ...\n",
            "1       810359                    1\n",
            "346    1092017                    1\n",
            "217    1000132                    1\n",
            "56      906476                    1\n",
            "0            0                    0\n",
            "\n",
            "[362 rows x 2 columns]\n"
          ]
        }
      ]
    },
    {
      "cell_type": "code",
      "source": [
        "# Plot\n",
        "sns.set(style=\"whitegrid\")\n",
        "sns.kdeplot(sorted_count['distinct_type_count'], shade=True)\n",
        "plt.xlabel('Distinct Type Count')\n",
        "plt.ylabel('Density')\n",
        "plt.title('Density Plot of Distinct Type Count per CitizenId')\n",
        "plt.show()"
      ],
      "metadata": {
        "colab": {
          "base_uri": "https://localhost:8080/",
          "height": 587
        },
        "id": "xtKsjX3SdKUp",
        "outputId": "2b45f614-6564-468f-96b5-7ed54e638489"
      },
      "execution_count": 22,
      "outputs": [
        {
          "output_type": "stream",
          "name": "stderr",
          "text": [
            "<ipython-input-22-67c178e59709>:3: FutureWarning: \n",
            "\n",
            "`shade` is now deprecated in favor of `fill`; setting `fill=True`.\n",
            "This will become an error in seaborn v0.14.0; please update your code.\n",
            "\n",
            "  sns.kdeplot(sorted_count['distinct_type_count'], shade=True)\n"
          ]
        },
        {
          "output_type": "display_data",
          "data": {
            "text/plain": [
              "<Figure size 640x480 with 1 Axes>"
            ],
            "image/png": "[encoded data removed]"
          },
          "metadata": {}
        }
      ]
    },
    {
      "cell_type": "code",
      "source": [
        "# Get the count of citizenId for each distinct distinct_type_count\n",
        "citizen_count_by_distinct_type = sorted_count['distinct_type_count'].value_counts().reset_index().sort_values(by='index')\n",
        "citizen_count_by_distinct_type.columns = ['distinct_type_count', 'citizenId_count']\n",
        "\n",
        "# Display\n",
        "print(citizen_count_by_distinct_type)"
      ],
      "metadata": {
        "colab": {
          "base_uri": "https://localhost:8080/"
        },
        "id": "Q-imNjvhdY1V",
        "outputId": "85d07f78-58c1-4321-fb89-3964035c06c9"
      },
      "execution_count": 23,
      "outputs": [
        {
          "output_type": "stream",
          "name": "stdout",
          "text": [
            "    distinct_type_count  citizenId_count\n",
            "13                    0                1\n",
            "6                     1                8\n",
            "3                     2               47\n",
            "0                     3               88\n",
            "1                     4               84\n",
            "2                     5               71\n",
            "4                     6               32\n",
            "5                     7               17\n",
            "7                     8                6\n",
            "10                    9                2\n",
            "9                    10                2\n",
            "12                   11                1\n",
            "11                   12                1\n",
            "8                    13                2\n"
          ]
        }
      ]
    },
    {
      "cell_type": "code",
      "source": [
        "# Set up the visual appearance\n",
        "sns.set(style=\"whitegrid\")\n",
        "\n",
        "# Create the bar plot\n",
        "plt.figure(figsize=(12, 6))\n",
        "sns.barplot(x='distinct_type_count', y='citizenId_count', data=citizen_count_by_distinct_type)\n",
        "\n",
        "# Add labels and title\n",
        "plt.xlabel('Distinct Type Count')\n",
        "plt.ylabel('Count of Citizen IDs')\n",
        "plt.title('Count of Citizen IDs by Distinct Type Count')\n",
        "\n",
        "# Show the plot\n",
        "plt.show()"
      ],
      "metadata": {
        "colab": {
          "base_uri": "https://localhost:8080/",
          "height": 573
        },
        "id": "5jJLlH2DdxPS",
        "outputId": "a5df1082-1582-470e-8eef-2832b2cfa299"
      },
      "execution_count": 24,
      "outputs": [
        {
          "output_type": "display_data",
          "data": {
            "text/plain": [
              "<Figure size 1200x600 with 1 Axes>"
            ],
            "image/png": "[encoded data removed]"
          },
          "metadata": {}
        }
      ]
    },
    {
      "cell_type": "code",
      "source": [],
      "metadata": {
        "id": "OTaQvil6dzNv"
      },
      "execution_count": null,
      "outputs": []
    }
  ]
}