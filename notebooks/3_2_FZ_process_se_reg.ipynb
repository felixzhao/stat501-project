{
  "nbformat": 4,
  "nbformat_minor": 0,
  "metadata": {
    "colab": {
      "provenance": [],
      "authorship_tag": "ABX9TyNqUaZAJ7/ME1MgV6hjslT1",
      "include_colab_link": true
    },
    "kernelspec": {
      "name": "python3",
      "display_name": "Python 3"
    },
    "language_info": {
      "name": "python"
    }
  },
  "cells": [
    {
      "cell_type": "markdown",
      "metadata": {
        "id": "view-in-github",
        "colab_type": "text"
      },
      "source": [
        "<a href=\"https://colab.research.google.com/github/felixzhao/stat501-project/blob/main/notebooks/3_2_FZ_process_se_reg.ipynb\" target=\"_parent\"><img src=\"https://colab.research.google.com/assets/colab-badge.svg\" alt=\"Open In Colab\"/></a>"
      ]
    },
    {
      "cell_type": "code",
      "source": [
        "import os\n",
        "import pandas as pd\n",
        "import matplotlib.pyplot as plt\n",
        "import seaborn as sns"
      ],
      "metadata": {
        "id": "byf0tSrKa0h6"
      },
      "execution_count": 1,
      "outputs": []
    },
    {
      "cell_type": "code",
      "source": [
        "\n",
        "from google.colab import drive\n",
        "drive.mount('/content/drive')\n",
        "!ls \"/content/drive/My Drive/Study@NZ/VUW@NZ/STATS 501/Project/pre_process_round_1\""
      ],
      "metadata": {
        "colab": {
          "base_uri": "https://localhost:8080/"
        },
        "id": "87qAvVPnbDfI",
        "outputId": "e9879124-489d-4da2-8a45-598d422031b0"
      },
      "execution_count": 2,
      "outputs": [
        {
          "output_type": "stream",
          "name": "stdout",
          "text": [
            "Mounted at /content/drive\n",
            "01_selected_data.csv\t\tciti_agg_texts.csv\n",
            "02_almost_complete_data.csv\tstart_end_registrations.csv\n",
            "02_almost_complete_data.gsheet\tstart_end_registrations_wide.csv\n"
          ]
        }
      ]
    },
    {
      "cell_type": "markdown",
      "source": [
        "# load df"
      ],
      "metadata": {
        "id": "wqTeJhacilOg"
      }
    },
    {
      "cell_type": "code",
      "source": [
        "texts_path = '/content/drive/My Drive/Study@NZ/VUW@NZ/STATS 501/Project/pre_process_round_1/start_end_registrations.csv'"
      ],
      "metadata": {
        "id": "GbuoMdqNioz_"
      },
      "execution_count": 3,
      "outputs": []
    },
    {
      "cell_type": "code",
      "source": [
        "output_path = '/content/drive/My Drive/Study@NZ/VUW@NZ/STATS 501/Project/pre_process_round_1/citi_agg_start_end_reg.csv'"
      ],
      "metadata": {
        "id": "W4421dKTOKaD"
      },
      "execution_count": 4,
      "outputs": []
    },
    {
      "cell_type": "code",
      "source": [
        "df = pd.read_csv(texts_path, low_memory=False, index_col=False)"
      ],
      "metadata": {
        "id": "8RVNnp4oh4j5"
      },
      "execution_count": 5,
      "outputs": []
    },
    {
      "cell_type": "markdown",
      "source": [
        "## info"
      ],
      "metadata": {
        "id": "n5W-XB7ajIna"
      }
    },
    {
      "cell_type": "code",
      "source": [
        "print(len(df.columns))\n",
        "df.columns"
      ],
      "metadata": {
        "colab": {
          "base_uri": "https://localhost:8080/"
        },
        "id": "2HhkV2JHJPLl",
        "outputId": "841c1cfc-1354-420b-f922-78f93dc2bc8e"
      },
      "execution_count": 6,
      "outputs": [
        {
          "output_type": "stream",
          "name": "stdout",
          "text": [
            "7\n"
          ]
        },
        {
          "output_type": "execute_result",
          "data": {
            "text/plain": [
              "Index(['citizenId', 'type', 'valueCount', 'startValue', 'startDate',\n",
              "       'endValue', 'endDate'],\n",
              "      dtype='object')"
            ]
          },
          "metadata": {},
          "execution_count": 6
        }
      ]
    },
    {
      "cell_type": "code",
      "source": [
        "print(df.apply(lambda col: col.unique()))"
      ],
      "metadata": {
        "id": "lb5QGCf0KKMY"
      },
      "execution_count": null,
      "outputs": []
    },
    {
      "cell_type": "code",
      "execution_count": null,
      "metadata": {
        "id": "QWfOe3D5akxR"
      },
      "outputs": [],
      "source": [
        "df.describe(include='all')"
      ]
    },
    {
      "cell_type": "markdown",
      "source": [
        "# preprocess"
      ],
      "metadata": {
        "id": "zhv0o7rqHD1b"
      }
    },
    {
      "cell_type": "code",
      "source": [
        "# df = pd.DataFrame(data)\n",
        "\n",
        "# Pivot the DataFrame\n",
        "df_pivot = df.pivot(index='citizenId', columns='type', values='valueCount')\n",
        "\n",
        "# Reset the index\n",
        "df_pivot.reset_index(inplace=True)\n",
        "\n",
        "# Display the DataFrame\n",
        "df_pivot"
      ],
      "metadata": {
        "id": "eLFweMl-HHbh"
      },
      "execution_count": null,
      "outputs": []
    },
    {
      "cell_type": "markdown",
      "source": [
        "# Save citi agg to file"
      ],
      "metadata": {
        "id": "xtxFf9_QH4Hm"
      }
    },
    {
      "cell_type": "code",
      "source": [
        "print(output_path)\n",
        "df_pivot.to_csv(output_path, index=False)"
      ],
      "metadata": {
        "colab": {
          "base_uri": "https://localhost:8080/"
        },
        "id": "_5krJ00BH6yu",
        "outputId": "54119e74-58a9-424e-d0aa-b63c8cac3f5e"
      },
      "execution_count": 12,
      "outputs": [
        {
          "output_type": "stream",
          "name": "stdout",
          "text": [
            "/content/drive/My Drive/Study@NZ/VUW@NZ/STATS 501/Project/pre_process_round_1/citi_agg_start_end_reg.csv\n"
          ]
        }
      ]
    }
  ]
}